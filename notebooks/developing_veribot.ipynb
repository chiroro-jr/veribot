{
  "cells": [
    {
      "cell_type": "markdown",
      "metadata": {
        "id": "Yufk2xarHzFp"
      },
      "source": [
        "# Developing VeriBot, An AI social media posts credibility classifier"
      ]
    },
    {
      "cell_type": "markdown",
      "metadata": {
        "id": "6zc14KxhHv-3"
      },
      "source": [
        "# Getting the data"
      ]
    },
    {
      "cell_type": "markdown",
      "metadata": {
        "id": "yNPCEvaRLoUJ"
      },
      "source": [
        "## Scrapping fact-checked social media posts from Politifact\n",
        "Through manual inspection of [Politifact](https://www.politifact.com/) I was able to notice that the fact-checks section of the website has about 789 pages. The general structure of the urls to access those pages is `https://www.politifact.com/factchecks/list/?page={page_number}` where `page_number` is the current page number. I will be using a combination of `BeautifulSoup` and `requests` libraries to scrap this website."
      ]
    },
    {
      "cell_type": "code",
      "execution_count": 1,
      "metadata": {
        "colab": {
          "base_uri": "https://localhost:8080/"
        },
        "id": "PyJWFGQAL2k2",
        "outputId": "29f80657-3b7f-4905-88d8-fe7d12edf9fe"
      },
      "outputs": [
        {
          "output_type": "stream",
          "name": "stdout",
          "text": [
            "Mounted at /content/drive\n"
          ]
        }
      ],
      "source": [
        "# Connect to Google drive\n",
        "from google.colab import drive\n",
        "drive.mount('/content/drive')"
      ]
    },
    {
      "cell_type": "code",
      "execution_count": null,
      "metadata": {
        "id": "34AlfKFGMAXq"
      },
      "outputs": [],
      "source": [
        "# Required libraries\n",
        "from bs4 import BeautifulSoup\n",
        "import requests"
      ]
    },
    {
      "cell_type": "code",
      "execution_count": null,
      "metadata": {
        "id": "nmJpKwMIMFfV"
      },
      "outputs": [],
      "source": [
        "BASE_URL = \"https://www.politifact.com\"\n",
        "FACT_CHECKS_URL = f\"{BASE_URL}/factchecks/list/?page=\"\n",
        "PAGE_RANGE = 787\n",
        "PROJECT_DIR = \"/content/drive/MyDrive/projects/veribot\""
      ]
    },
    {
      "cell_type": "code",
      "execution_count": null,
      "metadata": {
        "id": "ednkJE0HMC6g"
      },
      "outputs": [],
      "source": [
        "# Get generate urls to all 787 fact-check pages\n",
        "def generate_page_urls():\n",
        "  page_urls = []\n",
        "  for page_number in range(1, PAGE_RANGE + 1):\n",
        "    url = f'{FACT_CHECKS_URL}{page_number}'\n",
        "    page_urls.append(url)\n",
        "\n",
        "  return page_urls\n",
        "\n",
        "page_urls = generate_page_urls()\n",
        "page_urls[:5]"
      ]
    },
    {
      "cell_type": "markdown",
      "metadata": {
        "id": "nWsO0lkCr2-X"
      },
      "source": [
        "#### Things to note\n",
        "These are the different categories that the journalists at Politifact put various social media posts based on their truthiness:\n",
        "- **TRUE** - The statement is accurate and there's nothing significant missing.\n",
        "- **MOSTLY TRUE** - The statement is accurate but needs clarification or additional information.\n",
        "- **HALF TRUE** - The statement is partially accurate but leaves out important details or takes things out of context.\n",
        "- **MOSTLY FALSE** - The statement contains an element of truth but ignores critical facts that would give a different impression.\n",
        "- **FALSE** - The statement is not accurate.\n",
        "- **PANTS ON FIRE** - The statement is not accurate and makes a ridiculous claim.\n",
        "\n",
        "Based on this I will classify posts that are **true**, **mostly true**, and **half true** as `credible` and the rest as `incredible`."
      ]
    },
    {
      "cell_type": "code",
      "execution_count": null,
      "metadata": {
        "id": "yfdcPJRPMOy6"
      },
      "outputs": [],
      "source": [
        "import csv\n",
        "\n",
        "# Create a function to get a binary number from target -- 1 = True and 0 = False\n",
        "def get_binary_credibility(text):\n",
        "  credible = ['half-true', 'mostly-true', 'true']\n",
        "  if text in credible:\n",
        "    return 'credible'\n",
        "  if text in ['full-flop', 'half-flip', 'no-flip']:\n",
        "    return 'no-classification'\n",
        "  else:\n",
        "    return 'incredible'\n",
        "\n",
        "# Get all the posts on a single page\n",
        "def get_page_posts(link):\n",
        "  res = requests.get(link)\n",
        "  # Raise an exception for HTTP errors (e.g., 404)\n",
        "  res.raise_for_status()\n",
        "\n",
        "  soup = BeautifulSoup(res.text, 'html.parser')\n",
        "\n",
        "  statements = soup.find_all('article', attrs={'class': 'm-statement'})\n",
        "  posts = list()\n",
        "  for statement in statements:\n",
        "    source = statement.find('a', attrs={'class': 'm-statement__name'}).string.strip()\n",
        "    content = statement.find('div', attrs={'class': 'm-statement__quote'}).a.string.strip()\n",
        "    classification = statement.find('div', attrs={'class': 'm-statement__meter'}).find('img', attrs={'class': 'c-image__original'}).get('alt')\n",
        "\n",
        "    # convert the classification to `credible` or `incredible`\n",
        "    classification = get_binary_credibility(classification)\n",
        "    if classification == 'no-classification':\n",
        "      continue\n",
        "\n",
        "    posts.append({'source': source, 'content': content, 'classification': classification})\n",
        "\n",
        "  return posts\n",
        "\n",
        "# Specify the path to save the CSV file in Google Colab's local file system\n",
        "csv_file_path_colab = '/content/posts.csv'\n",
        "\n",
        "# Get all the posts on all the pages\n",
        "def get_posts(links):\n",
        "  # Open the CSV file in write mode and create a CSV writer\n",
        "  with open(csv_file_path_colab, 'w', newline='', encoding='utf-8') as csvfile:\n",
        "    fieldnames = ['source', 'content', 'classification']\n",
        "    writer = csv.DictWriter(csvfile, fieldnames=fieldnames)\n",
        "\n",
        "    # Write the CSV header\n",
        "    writer.writeheader()\n",
        "\n",
        "    # Loop through the links and fetch and process posts\n",
        "    for index, link in enumerate(links):\n",
        "      try:\n",
        "        print(f\"{index}. Fetching: {link}\")\n",
        "        posts = get_page_posts(link)\n",
        "        # Write the post data to the CSV file\n",
        "        writer.writerows(posts)\n",
        "      except Exception as e:\n",
        "          # Handle errors as needed\n",
        "          print(f\"Error processing {link}: {e}\")\n",
        "          continue\n",
        "\n",
        "get_posts(page_urls)"
      ]
    },
    {
      "cell_type": "code",
      "execution_count": null,
      "metadata": {
        "id": "76sKJ5lKOCdR"
      },
      "outputs": [],
      "source": [
        "# Specify the path to save the CSV file in Google Drive\n",
        "csv_file_path_drive = f'{PROJECT_DIR}/datasets/posts.csv'\n",
        "\n",
        "# Move the CSV file from Colab's file system to Google Drive\n",
        "!mv \"{csv_file_path_colab}\" \"{csv_file_path_drive}\"\n",
        "\n",
        "print(f\"CSV file has been moved to Google Drive: {csv_file_path_drive}\")"
      ]
    },
    {
      "cell_type": "markdown",
      "metadata": {
        "id": "UoLSKXJEIKNs"
      },
      "source": [
        "# Developing the model"
      ]
    },
    {
      "cell_type": "markdown",
      "metadata": {
        "id": "X6lF0MKUpB9T"
      },
      "source": [
        "## Data loading, exploration and cleaning"
      ]
    },
    {
      "cell_type": "code",
      "execution_count": 2,
      "metadata": {
        "id": "L-ufChlVpM0f"
      },
      "outputs": [],
      "source": [
        "import pandas as pd\n",
        "\n",
        "PROJECT_PATH = \"/content/drive/MyDrive/projects/veribot\"\n",
        "MODELS_PATH = f'{PROJECT_PATH}/models'\n",
        "DATASETS_PATH = f'{PROJECT_PATH}/datasets'"
      ]
    },
    {
      "cell_type": "code",
      "execution_count": 3,
      "metadata": {
        "id": "oSwkfULapO_k"
      },
      "outputs": [],
      "source": [
        "filepath = f'{DATASETS_PATH}/posts.csv'\n",
        "posts_df = pd.read_csv(filepath)"
      ]
    },
    {
      "cell_type": "code",
      "execution_count": 4,
      "metadata": {
        "colab": {
          "base_uri": "https://localhost:8080/",
          "height": 206
        },
        "id": "CxI_WjY8qK6i",
        "outputId": "4ade234f-2766-4cab-f2e6-b51a01df46a2"
      },
      "outputs": [
        {
          "output_type": "execute_result",
          "data": {
            "text/plain": [
              "            source                                            content  \\\n",
              "0   Facebook posts  A video shows children disappearing from insid...   \n",
              "1  Instagram posts  New York City is spraying unsafe pesticides to...   \n",
              "2  Instagram posts  A Sept. 20 video shows President Joe Biden’s b...   \n",
              "3   Facebook posts  \"En ciertos estados el gobierno de Estados Uni...   \n",
              "4     TikTok posts        Arizona Senate “indicted” Gov. Katie Hobbs.   \n",
              "\n",
              "  classification  \n",
              "0     incredible  \n",
              "1     incredible  \n",
              "2     incredible  \n",
              "3     incredible  \n",
              "4     incredible  "
            ],
            "text/html": [
              "\n",
              "  <div id=\"df-55beaeda-5628-432f-8ab3-15bac6ebba9c\" class=\"colab-df-container\">\n",
              "    <div>\n",
              "<style scoped>\n",
              "    .dataframe tbody tr th:only-of-type {\n",
              "        vertical-align: middle;\n",
              "    }\n",
              "\n",
              "    .dataframe tbody tr th {\n",
              "        vertical-align: top;\n",
              "    }\n",
              "\n",
              "    .dataframe thead th {\n",
              "        text-align: right;\n",
              "    }\n",
              "</style>\n",
              "<table border=\"1\" class=\"dataframe\">\n",
              "  <thead>\n",
              "    <tr style=\"text-align: right;\">\n",
              "      <th></th>\n",
              "      <th>source</th>\n",
              "      <th>content</th>\n",
              "      <th>classification</th>\n",
              "    </tr>\n",
              "  </thead>\n",
              "  <tbody>\n",
              "    <tr>\n",
              "      <th>0</th>\n",
              "      <td>Facebook posts</td>\n",
              "      <td>A video shows children disappearing from insid...</td>\n",
              "      <td>incredible</td>\n",
              "    </tr>\n",
              "    <tr>\n",
              "      <th>1</th>\n",
              "      <td>Instagram posts</td>\n",
              "      <td>New York City is spraying unsafe pesticides to...</td>\n",
              "      <td>incredible</td>\n",
              "    </tr>\n",
              "    <tr>\n",
              "      <th>2</th>\n",
              "      <td>Instagram posts</td>\n",
              "      <td>A Sept. 20 video shows President Joe Biden’s b...</td>\n",
              "      <td>incredible</td>\n",
              "    </tr>\n",
              "    <tr>\n",
              "      <th>3</th>\n",
              "      <td>Facebook posts</td>\n",
              "      <td>\"En ciertos estados el gobierno de Estados Uni...</td>\n",
              "      <td>incredible</td>\n",
              "    </tr>\n",
              "    <tr>\n",
              "      <th>4</th>\n",
              "      <td>TikTok posts</td>\n",
              "      <td>Arizona Senate “indicted” Gov. Katie Hobbs.</td>\n",
              "      <td>incredible</td>\n",
              "    </tr>\n",
              "  </tbody>\n",
              "</table>\n",
              "</div>\n",
              "    <div class=\"colab-df-buttons\">\n",
              "\n",
              "  <div class=\"colab-df-container\">\n",
              "    <button class=\"colab-df-convert\" onclick=\"convertToInteractive('df-55beaeda-5628-432f-8ab3-15bac6ebba9c')\"\n",
              "            title=\"Convert this dataframe to an interactive table.\"\n",
              "            style=\"display:none;\">\n",
              "\n",
              "  <svg xmlns=\"http://www.w3.org/2000/svg\" height=\"24px\" viewBox=\"0 -960 960 960\">\n",
              "    <path d=\"M120-120v-720h720v720H120Zm60-500h600v-160H180v160Zm220 220h160v-160H400v160Zm0 220h160v-160H400v160ZM180-400h160v-160H180v160Zm440 0h160v-160H620v160ZM180-180h160v-160H180v160Zm440 0h160v-160H620v160Z\"/>\n",
              "  </svg>\n",
              "    </button>\n",
              "\n",
              "  <style>\n",
              "    .colab-df-container {\n",
              "      display:flex;\n",
              "      gap: 12px;\n",
              "    }\n",
              "\n",
              "    .colab-df-convert {\n",
              "      background-color: #E8F0FE;\n",
              "      border: none;\n",
              "      border-radius: 50%;\n",
              "      cursor: pointer;\n",
              "      display: none;\n",
              "      fill: #1967D2;\n",
              "      height: 32px;\n",
              "      padding: 0 0 0 0;\n",
              "      width: 32px;\n",
              "    }\n",
              "\n",
              "    .colab-df-convert:hover {\n",
              "      background-color: #E2EBFA;\n",
              "      box-shadow: 0px 1px 2px rgba(60, 64, 67, 0.3), 0px 1px 3px 1px rgba(60, 64, 67, 0.15);\n",
              "      fill: #174EA6;\n",
              "    }\n",
              "\n",
              "    .colab-df-buttons div {\n",
              "      margin-bottom: 4px;\n",
              "    }\n",
              "\n",
              "    [theme=dark] .colab-df-convert {\n",
              "      background-color: #3B4455;\n",
              "      fill: #D2E3FC;\n",
              "    }\n",
              "\n",
              "    [theme=dark] .colab-df-convert:hover {\n",
              "      background-color: #434B5C;\n",
              "      box-shadow: 0px 1px 3px 1px rgba(0, 0, 0, 0.15);\n",
              "      filter: drop-shadow(0px 1px 2px rgba(0, 0, 0, 0.3));\n",
              "      fill: #FFFFFF;\n",
              "    }\n",
              "  </style>\n",
              "\n",
              "    <script>\n",
              "      const buttonEl =\n",
              "        document.querySelector('#df-55beaeda-5628-432f-8ab3-15bac6ebba9c button.colab-df-convert');\n",
              "      buttonEl.style.display =\n",
              "        google.colab.kernel.accessAllowed ? 'block' : 'none';\n",
              "\n",
              "      async function convertToInteractive(key) {\n",
              "        const element = document.querySelector('#df-55beaeda-5628-432f-8ab3-15bac6ebba9c');\n",
              "        const dataTable =\n",
              "          await google.colab.kernel.invokeFunction('convertToInteractive',\n",
              "                                                    [key], {});\n",
              "        if (!dataTable) return;\n",
              "\n",
              "        const docLinkHtml = 'Like what you see? Visit the ' +\n",
              "          '<a target=\"_blank\" href=https://colab.research.google.com/notebooks/data_table.ipynb>data table notebook</a>'\n",
              "          + ' to learn more about interactive tables.';\n",
              "        element.innerHTML = '';\n",
              "        dataTable['output_type'] = 'display_data';\n",
              "        await google.colab.output.renderOutput(dataTable, element);\n",
              "        const docLink = document.createElement('div');\n",
              "        docLink.innerHTML = docLinkHtml;\n",
              "        element.appendChild(docLink);\n",
              "      }\n",
              "    </script>\n",
              "  </div>\n",
              "\n",
              "\n",
              "<div id=\"df-9e22c397-9126-4081-8d60-df1265ea0f98\">\n",
              "  <button class=\"colab-df-quickchart\" onclick=\"quickchart('df-9e22c397-9126-4081-8d60-df1265ea0f98')\"\n",
              "            title=\"Suggest charts.\"\n",
              "            style=\"display:none;\">\n",
              "\n",
              "<svg xmlns=\"http://www.w3.org/2000/svg\" height=\"24px\"viewBox=\"0 0 24 24\"\n",
              "     width=\"24px\">\n",
              "    <g>\n",
              "        <path d=\"M19 3H5c-1.1 0-2 .9-2 2v14c0 1.1.9 2 2 2h14c1.1 0 2-.9 2-2V5c0-1.1-.9-2-2-2zM9 17H7v-7h2v7zm4 0h-2V7h2v10zm4 0h-2v-4h2v4z\"/>\n",
              "    </g>\n",
              "</svg>\n",
              "  </button>\n",
              "\n",
              "<style>\n",
              "  .colab-df-quickchart {\n",
              "      --bg-color: #E8F0FE;\n",
              "      --fill-color: #1967D2;\n",
              "      --hover-bg-color: #E2EBFA;\n",
              "      --hover-fill-color: #174EA6;\n",
              "      --disabled-fill-color: #AAA;\n",
              "      --disabled-bg-color: #DDD;\n",
              "  }\n",
              "\n",
              "  [theme=dark] .colab-df-quickchart {\n",
              "      --bg-color: #3B4455;\n",
              "      --fill-color: #D2E3FC;\n",
              "      --hover-bg-color: #434B5C;\n",
              "      --hover-fill-color: #FFFFFF;\n",
              "      --disabled-bg-color: #3B4455;\n",
              "      --disabled-fill-color: #666;\n",
              "  }\n",
              "\n",
              "  .colab-df-quickchart {\n",
              "    background-color: var(--bg-color);\n",
              "    border: none;\n",
              "    border-radius: 50%;\n",
              "    cursor: pointer;\n",
              "    display: none;\n",
              "    fill: var(--fill-color);\n",
              "    height: 32px;\n",
              "    padding: 0;\n",
              "    width: 32px;\n",
              "  }\n",
              "\n",
              "  .colab-df-quickchart:hover {\n",
              "    background-color: var(--hover-bg-color);\n",
              "    box-shadow: 0 1px 2px rgba(60, 64, 67, 0.3), 0 1px 3px 1px rgba(60, 64, 67, 0.15);\n",
              "    fill: var(--button-hover-fill-color);\n",
              "  }\n",
              "\n",
              "  .colab-df-quickchart-complete:disabled,\n",
              "  .colab-df-quickchart-complete:disabled:hover {\n",
              "    background-color: var(--disabled-bg-color);\n",
              "    fill: var(--disabled-fill-color);\n",
              "    box-shadow: none;\n",
              "  }\n",
              "\n",
              "  .colab-df-spinner {\n",
              "    border: 2px solid var(--fill-color);\n",
              "    border-color: transparent;\n",
              "    border-bottom-color: var(--fill-color);\n",
              "    animation:\n",
              "      spin 1s steps(1) infinite;\n",
              "  }\n",
              "\n",
              "  @keyframes spin {\n",
              "    0% {\n",
              "      border-color: transparent;\n",
              "      border-bottom-color: var(--fill-color);\n",
              "      border-left-color: var(--fill-color);\n",
              "    }\n",
              "    20% {\n",
              "      border-color: transparent;\n",
              "      border-left-color: var(--fill-color);\n",
              "      border-top-color: var(--fill-color);\n",
              "    }\n",
              "    30% {\n",
              "      border-color: transparent;\n",
              "      border-left-color: var(--fill-color);\n",
              "      border-top-color: var(--fill-color);\n",
              "      border-right-color: var(--fill-color);\n",
              "    }\n",
              "    40% {\n",
              "      border-color: transparent;\n",
              "      border-right-color: var(--fill-color);\n",
              "      border-top-color: var(--fill-color);\n",
              "    }\n",
              "    60% {\n",
              "      border-color: transparent;\n",
              "      border-right-color: var(--fill-color);\n",
              "    }\n",
              "    80% {\n",
              "      border-color: transparent;\n",
              "      border-right-color: var(--fill-color);\n",
              "      border-bottom-color: var(--fill-color);\n",
              "    }\n",
              "    90% {\n",
              "      border-color: transparent;\n",
              "      border-bottom-color: var(--fill-color);\n",
              "    }\n",
              "  }\n",
              "</style>\n",
              "\n",
              "  <script>\n",
              "    async function quickchart(key) {\n",
              "      const quickchartButtonEl =\n",
              "        document.querySelector('#' + key + ' button');\n",
              "      quickchartButtonEl.disabled = true;  // To prevent multiple clicks.\n",
              "      quickchartButtonEl.classList.add('colab-df-spinner');\n",
              "      try {\n",
              "        const charts = await google.colab.kernel.invokeFunction(\n",
              "            'suggestCharts', [key], {});\n",
              "      } catch (error) {\n",
              "        console.error('Error during call to suggestCharts:', error);\n",
              "      }\n",
              "      quickchartButtonEl.classList.remove('colab-df-spinner');\n",
              "      quickchartButtonEl.classList.add('colab-df-quickchart-complete');\n",
              "    }\n",
              "    (() => {\n",
              "      let quickchartButtonEl =\n",
              "        document.querySelector('#df-9e22c397-9126-4081-8d60-df1265ea0f98 button');\n",
              "      quickchartButtonEl.style.display =\n",
              "        google.colab.kernel.accessAllowed ? 'block' : 'none';\n",
              "    })();\n",
              "  </script>\n",
              "</div>\n",
              "    </div>\n",
              "  </div>\n"
            ]
          },
          "metadata": {},
          "execution_count": 4
        }
      ],
      "source": [
        "# get the first 5 rows\n",
        "posts_df.head()"
      ]
    },
    {
      "cell_type": "code",
      "execution_count": 5,
      "metadata": {
        "colab": {
          "base_uri": "https://localhost:8080/",
          "height": 206
        },
        "id": "7tLQy-BZqR5E",
        "outputId": "a0c14a95-b096-4b78-d904-146ea61ede14"
      },
      "outputs": [
        {
          "output_type": "execute_result",
          "data": {
            "text/plain": [
              "             source                                            content  \\\n",
              "23306     Joe Biden  \"You know we can't just pull out now... The tr...   \n",
              "23307     Joe Biden                     \"The president is brain-dead.\"   \n",
              "23308   Mitt Romney  \"(McCain) was opposed to ethanol. Now he's for...   \n",
              "23309   Mitt Romney  \"(McCain) said he was opposed to overturning R...   \n",
              "23310  John Edwards  An estimated 56 million Americans don't have b...   \n",
              "\n",
              "      classification  \n",
              "23306       credible  \n",
              "23307     incredible  \n",
              "23308       credible  \n",
              "23309       credible  \n",
              "23310       credible  "
            ],
            "text/html": [
              "\n",
              "  <div id=\"df-23587509-ccc3-444d-ae0f-a5906e1504d1\" class=\"colab-df-container\">\n",
              "    <div>\n",
              "<style scoped>\n",
              "    .dataframe tbody tr th:only-of-type {\n",
              "        vertical-align: middle;\n",
              "    }\n",
              "\n",
              "    .dataframe tbody tr th {\n",
              "        vertical-align: top;\n",
              "    }\n",
              "\n",
              "    .dataframe thead th {\n",
              "        text-align: right;\n",
              "    }\n",
              "</style>\n",
              "<table border=\"1\" class=\"dataframe\">\n",
              "  <thead>\n",
              "    <tr style=\"text-align: right;\">\n",
              "      <th></th>\n",
              "      <th>source</th>\n",
              "      <th>content</th>\n",
              "      <th>classification</th>\n",
              "    </tr>\n",
              "  </thead>\n",
              "  <tbody>\n",
              "    <tr>\n",
              "      <th>23306</th>\n",
              "      <td>Joe Biden</td>\n",
              "      <td>\"You know we can't just pull out now... The tr...</td>\n",
              "      <td>credible</td>\n",
              "    </tr>\n",
              "    <tr>\n",
              "      <th>23307</th>\n",
              "      <td>Joe Biden</td>\n",
              "      <td>\"The president is brain-dead.\"</td>\n",
              "      <td>incredible</td>\n",
              "    </tr>\n",
              "    <tr>\n",
              "      <th>23308</th>\n",
              "      <td>Mitt Romney</td>\n",
              "      <td>\"(McCain) was opposed to ethanol. Now he's for...</td>\n",
              "      <td>credible</td>\n",
              "    </tr>\n",
              "    <tr>\n",
              "      <th>23309</th>\n",
              "      <td>Mitt Romney</td>\n",
              "      <td>\"(McCain) said he was opposed to overturning R...</td>\n",
              "      <td>credible</td>\n",
              "    </tr>\n",
              "    <tr>\n",
              "      <th>23310</th>\n",
              "      <td>John Edwards</td>\n",
              "      <td>An estimated 56 million Americans don't have b...</td>\n",
              "      <td>credible</td>\n",
              "    </tr>\n",
              "  </tbody>\n",
              "</table>\n",
              "</div>\n",
              "    <div class=\"colab-df-buttons\">\n",
              "\n",
              "  <div class=\"colab-df-container\">\n",
              "    <button class=\"colab-df-convert\" onclick=\"convertToInteractive('df-23587509-ccc3-444d-ae0f-a5906e1504d1')\"\n",
              "            title=\"Convert this dataframe to an interactive table.\"\n",
              "            style=\"display:none;\">\n",
              "\n",
              "  <svg xmlns=\"http://www.w3.org/2000/svg\" height=\"24px\" viewBox=\"0 -960 960 960\">\n",
              "    <path d=\"M120-120v-720h720v720H120Zm60-500h600v-160H180v160Zm220 220h160v-160H400v160Zm0 220h160v-160H400v160ZM180-400h160v-160H180v160Zm440 0h160v-160H620v160ZM180-180h160v-160H180v160Zm440 0h160v-160H620v160Z\"/>\n",
              "  </svg>\n",
              "    </button>\n",
              "\n",
              "  <style>\n",
              "    .colab-df-container {\n",
              "      display:flex;\n",
              "      gap: 12px;\n",
              "    }\n",
              "\n",
              "    .colab-df-convert {\n",
              "      background-color: #E8F0FE;\n",
              "      border: none;\n",
              "      border-radius: 50%;\n",
              "      cursor: pointer;\n",
              "      display: none;\n",
              "      fill: #1967D2;\n",
              "      height: 32px;\n",
              "      padding: 0 0 0 0;\n",
              "      width: 32px;\n",
              "    }\n",
              "\n",
              "    .colab-df-convert:hover {\n",
              "      background-color: #E2EBFA;\n",
              "      box-shadow: 0px 1px 2px rgba(60, 64, 67, 0.3), 0px 1px 3px 1px rgba(60, 64, 67, 0.15);\n",
              "      fill: #174EA6;\n",
              "    }\n",
              "\n",
              "    .colab-df-buttons div {\n",
              "      margin-bottom: 4px;\n",
              "    }\n",
              "\n",
              "    [theme=dark] .colab-df-convert {\n",
              "      background-color: #3B4455;\n",
              "      fill: #D2E3FC;\n",
              "    }\n",
              "\n",
              "    [theme=dark] .colab-df-convert:hover {\n",
              "      background-color: #434B5C;\n",
              "      box-shadow: 0px 1px 3px 1px rgba(0, 0, 0, 0.15);\n",
              "      filter: drop-shadow(0px 1px 2px rgba(0, 0, 0, 0.3));\n",
              "      fill: #FFFFFF;\n",
              "    }\n",
              "  </style>\n",
              "\n",
              "    <script>\n",
              "      const buttonEl =\n",
              "        document.querySelector('#df-23587509-ccc3-444d-ae0f-a5906e1504d1 button.colab-df-convert');\n",
              "      buttonEl.style.display =\n",
              "        google.colab.kernel.accessAllowed ? 'block' : 'none';\n",
              "\n",
              "      async function convertToInteractive(key) {\n",
              "        const element = document.querySelector('#df-23587509-ccc3-444d-ae0f-a5906e1504d1');\n",
              "        const dataTable =\n",
              "          await google.colab.kernel.invokeFunction('convertToInteractive',\n",
              "                                                    [key], {});\n",
              "        if (!dataTable) return;\n",
              "\n",
              "        const docLinkHtml = 'Like what you see? Visit the ' +\n",
              "          '<a target=\"_blank\" href=https://colab.research.google.com/notebooks/data_table.ipynb>data table notebook</a>'\n",
              "          + ' to learn more about interactive tables.';\n",
              "        element.innerHTML = '';\n",
              "        dataTable['output_type'] = 'display_data';\n",
              "        await google.colab.output.renderOutput(dataTable, element);\n",
              "        const docLink = document.createElement('div');\n",
              "        docLink.innerHTML = docLinkHtml;\n",
              "        element.appendChild(docLink);\n",
              "      }\n",
              "    </script>\n",
              "  </div>\n",
              "\n",
              "\n",
              "<div id=\"df-0e56cf7a-e439-420d-8c4c-751184b3258b\">\n",
              "  <button class=\"colab-df-quickchart\" onclick=\"quickchart('df-0e56cf7a-e439-420d-8c4c-751184b3258b')\"\n",
              "            title=\"Suggest charts.\"\n",
              "            style=\"display:none;\">\n",
              "\n",
              "<svg xmlns=\"http://www.w3.org/2000/svg\" height=\"24px\"viewBox=\"0 0 24 24\"\n",
              "     width=\"24px\">\n",
              "    <g>\n",
              "        <path d=\"M19 3H5c-1.1 0-2 .9-2 2v14c0 1.1.9 2 2 2h14c1.1 0 2-.9 2-2V5c0-1.1-.9-2-2-2zM9 17H7v-7h2v7zm4 0h-2V7h2v10zm4 0h-2v-4h2v4z\"/>\n",
              "    </g>\n",
              "</svg>\n",
              "  </button>\n",
              "\n",
              "<style>\n",
              "  .colab-df-quickchart {\n",
              "      --bg-color: #E8F0FE;\n",
              "      --fill-color: #1967D2;\n",
              "      --hover-bg-color: #E2EBFA;\n",
              "      --hover-fill-color: #174EA6;\n",
              "      --disabled-fill-color: #AAA;\n",
              "      --disabled-bg-color: #DDD;\n",
              "  }\n",
              "\n",
              "  [theme=dark] .colab-df-quickchart {\n",
              "      --bg-color: #3B4455;\n",
              "      --fill-color: #D2E3FC;\n",
              "      --hover-bg-color: #434B5C;\n",
              "      --hover-fill-color: #FFFFFF;\n",
              "      --disabled-bg-color: #3B4455;\n",
              "      --disabled-fill-color: #666;\n",
              "  }\n",
              "\n",
              "  .colab-df-quickchart {\n",
              "    background-color: var(--bg-color);\n",
              "    border: none;\n",
              "    border-radius: 50%;\n",
              "    cursor: pointer;\n",
              "    display: none;\n",
              "    fill: var(--fill-color);\n",
              "    height: 32px;\n",
              "    padding: 0;\n",
              "    width: 32px;\n",
              "  }\n",
              "\n",
              "  .colab-df-quickchart:hover {\n",
              "    background-color: var(--hover-bg-color);\n",
              "    box-shadow: 0 1px 2px rgba(60, 64, 67, 0.3), 0 1px 3px 1px rgba(60, 64, 67, 0.15);\n",
              "    fill: var(--button-hover-fill-color);\n",
              "  }\n",
              "\n",
              "  .colab-df-quickchart-complete:disabled,\n",
              "  .colab-df-quickchart-complete:disabled:hover {\n",
              "    background-color: var(--disabled-bg-color);\n",
              "    fill: var(--disabled-fill-color);\n",
              "    box-shadow: none;\n",
              "  }\n",
              "\n",
              "  .colab-df-spinner {\n",
              "    border: 2px solid var(--fill-color);\n",
              "    border-color: transparent;\n",
              "    border-bottom-color: var(--fill-color);\n",
              "    animation:\n",
              "      spin 1s steps(1) infinite;\n",
              "  }\n",
              "\n",
              "  @keyframes spin {\n",
              "    0% {\n",
              "      border-color: transparent;\n",
              "      border-bottom-color: var(--fill-color);\n",
              "      border-left-color: var(--fill-color);\n",
              "    }\n",
              "    20% {\n",
              "      border-color: transparent;\n",
              "      border-left-color: var(--fill-color);\n",
              "      border-top-color: var(--fill-color);\n",
              "    }\n",
              "    30% {\n",
              "      border-color: transparent;\n",
              "      border-left-color: var(--fill-color);\n",
              "      border-top-color: var(--fill-color);\n",
              "      border-right-color: var(--fill-color);\n",
              "    }\n",
              "    40% {\n",
              "      border-color: transparent;\n",
              "      border-right-color: var(--fill-color);\n",
              "      border-top-color: var(--fill-color);\n",
              "    }\n",
              "    60% {\n",
              "      border-color: transparent;\n",
              "      border-right-color: var(--fill-color);\n",
              "    }\n",
              "    80% {\n",
              "      border-color: transparent;\n",
              "      border-right-color: var(--fill-color);\n",
              "      border-bottom-color: var(--fill-color);\n",
              "    }\n",
              "    90% {\n",
              "      border-color: transparent;\n",
              "      border-bottom-color: var(--fill-color);\n",
              "    }\n",
              "  }\n",
              "</style>\n",
              "\n",
              "  <script>\n",
              "    async function quickchart(key) {\n",
              "      const quickchartButtonEl =\n",
              "        document.querySelector('#' + key + ' button');\n",
              "      quickchartButtonEl.disabled = true;  // To prevent multiple clicks.\n",
              "      quickchartButtonEl.classList.add('colab-df-spinner');\n",
              "      try {\n",
              "        const charts = await google.colab.kernel.invokeFunction(\n",
              "            'suggestCharts', [key], {});\n",
              "      } catch (error) {\n",
              "        console.error('Error during call to suggestCharts:', error);\n",
              "      }\n",
              "      quickchartButtonEl.classList.remove('colab-df-spinner');\n",
              "      quickchartButtonEl.classList.add('colab-df-quickchart-complete');\n",
              "    }\n",
              "    (() => {\n",
              "      let quickchartButtonEl =\n",
              "        document.querySelector('#df-0e56cf7a-e439-420d-8c4c-751184b3258b button');\n",
              "      quickchartButtonEl.style.display =\n",
              "        google.colab.kernel.accessAllowed ? 'block' : 'none';\n",
              "    })();\n",
              "  </script>\n",
              "</div>\n",
              "    </div>\n",
              "  </div>\n"
            ]
          },
          "metadata": {},
          "execution_count": 5
        }
      ],
      "source": [
        "# get the last 5 rows\n",
        "posts_df.tail()"
      ]
    },
    {
      "cell_type": "code",
      "execution_count": 6,
      "metadata": {
        "colab": {
          "base_uri": "https://localhost:8080/"
        },
        "id": "goIVdig5qnLC",
        "outputId": "942aa79f-c477-4a9c-b5d0-c8df641e55cb"
      },
      "outputs": [
        {
          "output_type": "execute_result",
          "data": {
            "text/plain": [
              "23311"
            ]
          },
          "metadata": {},
          "execution_count": 6
        }
      ],
      "source": [
        "# how many records are there in total?\n",
        "posts_df.shape[0]"
      ]
    },
    {
      "cell_type": "code",
      "execution_count": 7,
      "metadata": {
        "colab": {
          "base_uri": "https://localhost:8080/"
        },
        "id": "U3uxzU3zqYB8",
        "outputId": "f34308dc-029b-46b9-e25c-da68f87f9d0a"
      },
      "outputs": [
        {
          "output_type": "execute_result",
          "data": {
            "text/plain": [
              "incredible    13572\n",
              "credible       9739\n",
              "Name: classification, dtype: int64"
            ]
          },
          "metadata": {},
          "execution_count": 7
        }
      ],
      "source": [
        "# check the number of classifications available\n",
        "posts_df['classification'].value_counts()"
      ]
    },
    {
      "cell_type": "code",
      "execution_count": 8,
      "metadata": {
        "colab": {
          "base_uri": "https://localhost:8080/"
        },
        "id": "wHuzXNp-sCyy",
        "outputId": "1f6043b1-1ee5-44e4-e195-9e23cd628cfd"
      },
      "outputs": [
        {
          "output_type": "execute_result",
          "data": {
            "text/plain": [
              "incredible    13572\n",
              "credible       9739\n",
              "Name: classification, dtype: int64"
            ]
          },
          "metadata": {},
          "execution_count": 8
        }
      ],
      "source": [
        "# remove rows containing a classification of full-flop, half-flop or no-flip\n",
        "values_to_remove = ['full-flop', 'half-flip', 'no-flip']\n",
        "mask = ~posts_df['classification'].isin(values_to_remove)\n",
        "posts_df = posts_df[mask]\n",
        "posts_df['classification'].value_counts()"
      ]
    },
    {
      "cell_type": "markdown",
      "metadata": {
        "id": "BC_VZGJcvbzW"
      },
      "source": [
        "It's already clear from these numbers that people don't like to tell the truth very much on social media. Let me put this in a bar chart."
      ]
    },
    {
      "cell_type": "code",
      "execution_count": 9,
      "metadata": {
        "colab": {
          "base_uri": "https://localhost:8080/",
          "height": 618
        },
        "id": "5J2qzH8IwFaN",
        "outputId": "7a958eda-a8d3-42d2-c55d-d1a0cb7e5b36"
      },
      "outputs": [
        {
          "output_type": "display_data",
          "data": {
            "text/plain": [
              "<Figure size 800x600 with 1 Axes>"
            ],
            "image/png": "[encoded data removed]"
          },
          "metadata": {}
        }
      ],
      "source": [
        "import matplotlib.pyplot as plt\n",
        "\n",
        "classification_counts = posts_df['classification'].value_counts()\n",
        "\n",
        "# Create a bar chart\n",
        "plt.figure(figsize=(8, 6))  # Optional: Adjust the figure size\n",
        "classification_counts.plot(kind='bar', color='skyblue')\n",
        "\n",
        "# Add labels and a title\n",
        "plt.xlabel('Classification')\n",
        "plt.ylabel('Count')\n",
        "plt.title('Distribution of Classifications')\n",
        "\n",
        "# Show the plot\n",
        "plt.show()"
      ]
    },
    {
      "cell_type": "code",
      "execution_count": 10,
      "metadata": {
        "colab": {
          "base_uri": "https://localhost:8080/"
        },
        "id": "eXFqzUMPwPlJ",
        "outputId": "088572d8-c93c-4287-953c-191aa38a3265"
      },
      "outputs": [
        {
          "output_type": "stream",
          "name": "stdout",
          "text": [
            "<class 'pandas.core.frame.DataFrame'>\n",
            "Int64Index: 23311 entries, 0 to 23310\n",
            "Data columns (total 3 columns):\n",
            " #   Column          Non-Null Count  Dtype \n",
            "---  ------          --------------  ----- \n",
            " 0   source          23311 non-null  object\n",
            " 1   content         23311 non-null  object\n",
            " 2   classification  23311 non-null  object\n",
            "dtypes: object(3)\n",
            "memory usage: 728.5+ KB\n"
          ]
        }
      ],
      "source": [
        "# check if there's any missing data from the dataset\n",
        "posts_df.info()"
      ]
    },
    {
      "cell_type": "markdown",
      "metadata": {
        "id": "Ux226F8Bwbm2"
      },
      "source": [
        "The total number of rows in the dataset($23310$) is equal to the total number of non-null rows in each column. This mean there are no missing values."
      ]
    },
    {
      "cell_type": "code",
      "execution_count": 11,
      "metadata": {
        "colab": {
          "base_uri": "https://localhost:8080/"
        },
        "id": "yvjpg10zwtbt",
        "outputId": "88ed8556-92e1-4190-adb7-75b005e6466f"
      },
      "outputs": [
        {
          "output_type": "execute_result",
          "data": {
            "text/plain": [
              "source            0\n",
              "content           0\n",
              "classification    0\n",
              "dtype: int64"
            ]
          },
          "metadata": {},
          "execution_count": 11
        }
      ],
      "source": [
        "# Another confirmation that there are no missing values.\n",
        "posts_df.isna().sum()"
      ]
    },
    {
      "cell_type": "markdown",
      "metadata": {
        "id": "wx6mP2SoxA9r"
      },
      "source": [
        "## Clean the text data"
      ]
    },
    {
      "cell_type": "code",
      "execution_count": 12,
      "metadata": {
        "colab": {
          "base_uri": "https://localhost:8080/"
        },
        "id": "0_XP2kKm03Wz",
        "outputId": "5d360dbf-abc3-4a91-e104-52dca5d2a0d9"
      },
      "outputs": [
        {
          "output_type": "stream",
          "name": "stderr",
          "text": [
            "[nltk_data] Downloading package stopwords to /root/nltk_data...\n",
            "[nltk_data]   Unzipping corpora/stopwords.zip.\n",
            "[nltk_data] Downloading package wordnet to /root/nltk_data...\n"
          ]
        },
        {
          "output_type": "execute_result",
          "data": {
            "text/plain": [
              "True"
            ]
          },
          "metadata": {},
          "execution_count": 12
        }
      ],
      "source": [
        "# required libraries\n",
        "import re\n",
        "import string\n",
        "import nltk\n",
        "from nltk.corpus import stopwords\n",
        "from nltk.stem import WordNetLemmatizer\n",
        "\n",
        "# download NLTK stopwords\n",
        "nltk.download('stopwords')\n",
        "nltk.download('wordnet')"
      ]
    },
    {
      "cell_type": "code",
      "execution_count": 13,
      "metadata": {
        "id": "Ih0qogOU1I1Y"
      },
      "outputs": [],
      "source": [
        "# define a function to clean the text\n",
        "def clean_doc(doc):\n",
        "    # Remove HTML tags using regex\n",
        "    doc = re.sub(r'<[^>]+>', '', doc)\n",
        "\n",
        "    # Convert text to lowercase\n",
        "    doc = doc.lower()\n",
        "\n",
        "    # Split into tokens by white space\n",
        "    tokens = doc.split()\n",
        "\n",
        "    # Prepare regex for char filtering\n",
        "    re_punc = re.compile('[%s]' % re.escape(string.punctuation))\n",
        "\n",
        "    # Remove punctuation from each word\n",
        "    tokens = [re_punc.sub('', w) for w in tokens]\n",
        "\n",
        "    # Remove non-alphabetic tokens\n",
        "    tokens = [word for word in tokens if word.isalpha()]\n",
        "\n",
        "    # Initialize the WordNet Lemmatizer\n",
        "    lemmatizer = WordNetLemmatizer()\n",
        "\n",
        "    # Perform lemmatization on each word\n",
        "    tokens = [lemmatizer.lemmatize(word) for word in tokens]\n",
        "\n",
        "    # Filter out stop words\n",
        "    stop_words = set(stopwords.words('english'))\n",
        "    tokens = [w for w in tokens if not w in stop_words]\n",
        "\n",
        "    # Filter out short tokens\n",
        "    tokens = [word for word in tokens if len(word) > 1]\n",
        "\n",
        "    # Join the tokens back into a single string\n",
        "    cleaned_text = ' '.join(tokens)\n",
        "\n",
        "    return cleaned_text"
      ]
    },
    {
      "cell_type": "code",
      "execution_count": 14,
      "metadata": {
        "colab": {
          "base_uri": "https://localhost:8080/",
          "height": 206
        },
        "id": "F3ZPRoVP1xa4",
        "outputId": "6f40ef31-ca34-4d4f-8174-099f76ba220b"
      },
      "outputs": [
        {
          "output_type": "execute_result",
          "data": {
            "text/plain": [
              "           source                                            content  \\\n",
              "0   facebook post    video show child disappearing inside school bus   \n",
              "1  instagram post  new york city spraying unsafe pesticide combat...   \n",
              "2  instagram post          sept video show president joe body double   \n",
              "3   facebook post  en ciertos estados el gobierno de estados unid...   \n",
              "4     tiktok post                     arizona senate gov katie hobbs   \n",
              "\n",
              "  classification  \n",
              "0     incredible  \n",
              "1     incredible  \n",
              "2     incredible  \n",
              "3     incredible  \n",
              "4     incredible  "
            ],
            "text/html": [
              "\n",
              "  <div id=\"df-ce38140f-21d3-45b0-8d36-a1fd76fb0408\" class=\"colab-df-container\">\n",
              "    <div>\n",
              "<style scoped>\n",
              "    .dataframe tbody tr th:only-of-type {\n",
              "        vertical-align: middle;\n",
              "    }\n",
              "\n",
              "    .dataframe tbody tr th {\n",
              "        vertical-align: top;\n",
              "    }\n",
              "\n",
              "    .dataframe thead th {\n",
              "        text-align: right;\n",
              "    }\n",
              "</style>\n",
              "<table border=\"1\" class=\"dataframe\">\n",
              "  <thead>\n",
              "    <tr style=\"text-align: right;\">\n",
              "      <th></th>\n",
              "      <th>source</th>\n",
              "      <th>content</th>\n",
              "      <th>classification</th>\n",
              "    </tr>\n",
              "  </thead>\n",
              "  <tbody>\n",
              "    <tr>\n",
              "      <th>0</th>\n",
              "      <td>facebook post</td>\n",
              "      <td>video show child disappearing inside school bus</td>\n",
              "      <td>incredible</td>\n",
              "    </tr>\n",
              "    <tr>\n",
              "      <th>1</th>\n",
              "      <td>instagram post</td>\n",
              "      <td>new york city spraying unsafe pesticide combat...</td>\n",
              "      <td>incredible</td>\n",
              "    </tr>\n",
              "    <tr>\n",
              "      <th>2</th>\n",
              "      <td>instagram post</td>\n",
              "      <td>sept video show president joe body double</td>\n",
              "      <td>incredible</td>\n",
              "    </tr>\n",
              "    <tr>\n",
              "      <th>3</th>\n",
              "      <td>facebook post</td>\n",
              "      <td>en ciertos estados el gobierno de estados unid...</td>\n",
              "      <td>incredible</td>\n",
              "    </tr>\n",
              "    <tr>\n",
              "      <th>4</th>\n",
              "      <td>tiktok post</td>\n",
              "      <td>arizona senate gov katie hobbs</td>\n",
              "      <td>incredible</td>\n",
              "    </tr>\n",
              "  </tbody>\n",
              "</table>\n",
              "</div>\n",
              "    <div class=\"colab-df-buttons\">\n",
              "\n",
              "  <div class=\"colab-df-container\">\n",
              "    <button class=\"colab-df-convert\" onclick=\"convertToInteractive('df-ce38140f-21d3-45b0-8d36-a1fd76fb0408')\"\n",
              "            title=\"Convert this dataframe to an interactive table.\"\n",
              "            style=\"display:none;\">\n",
              "\n",
              "  <svg xmlns=\"http://www.w3.org/2000/svg\" height=\"24px\" viewBox=\"0 -960 960 960\">\n",
              "    <path d=\"M120-120v-720h720v720H120Zm60-500h600v-160H180v160Zm220 220h160v-160H400v160Zm0 220h160v-160H400v160ZM180-400h160v-160H180v160Zm440 0h160v-160H620v160ZM180-180h160v-160H180v160Zm440 0h160v-160H620v160Z\"/>\n",
              "  </svg>\n",
              "    </button>\n",
              "\n",
              "  <style>\n",
              "    .colab-df-container {\n",
              "      display:flex;\n",
              "      gap: 12px;\n",
              "    }\n",
              "\n",
              "    .colab-df-convert {\n",
              "      background-color: #E8F0FE;\n",
              "      border: none;\n",
              "      border-radius: 50%;\n",
              "      cursor: pointer;\n",
              "      display: none;\n",
              "      fill: #1967D2;\n",
              "      height: 32px;\n",
              "      padding: 0 0 0 0;\n",
              "      width: 32px;\n",
              "    }\n",
              "\n",
              "    .colab-df-convert:hover {\n",
              "      background-color: #E2EBFA;\n",
              "      box-shadow: 0px 1px 2px rgba(60, 64, 67, 0.3), 0px 1px 3px 1px rgba(60, 64, 67, 0.15);\n",
              "      fill: #174EA6;\n",
              "    }\n",
              "\n",
              "    .colab-df-buttons div {\n",
              "      margin-bottom: 4px;\n",
              "    }\n",
              "\n",
              "    [theme=dark] .colab-df-convert {\n",
              "      background-color: #3B4455;\n",
              "      fill: #D2E3FC;\n",
              "    }\n",
              "\n",
              "    [theme=dark] .colab-df-convert:hover {\n",
              "      background-color: #434B5C;\n",
              "      box-shadow: 0px 1px 3px 1px rgba(0, 0, 0, 0.15);\n",
              "      filter: drop-shadow(0px 1px 2px rgba(0, 0, 0, 0.3));\n",
              "      fill: #FFFFFF;\n",
              "    }\n",
              "  </style>\n",
              "\n",
              "    <script>\n",
              "      const buttonEl =\n",
              "        document.querySelector('#df-ce38140f-21d3-45b0-8d36-a1fd76fb0408 button.colab-df-convert');\n",
              "      buttonEl.style.display =\n",
              "        google.colab.kernel.accessAllowed ? 'block' : 'none';\n",
              "\n",
              "      async function convertToInteractive(key) {\n",
              "        const element = document.querySelector('#df-ce38140f-21d3-45b0-8d36-a1fd76fb0408');\n",
              "        const dataTable =\n",
              "          await google.colab.kernel.invokeFunction('convertToInteractive',\n",
              "                                                    [key], {});\n",
              "        if (!dataTable) return;\n",
              "\n",
              "        const docLinkHtml = 'Like what you see? Visit the ' +\n",
              "          '<a target=\"_blank\" href=https://colab.research.google.com/notebooks/data_table.ipynb>data table notebook</a>'\n",
              "          + ' to learn more about interactive tables.';\n",
              "        element.innerHTML = '';\n",
              "        dataTable['output_type'] = 'display_data';\n",
              "        await google.colab.output.renderOutput(dataTable, element);\n",
              "        const docLink = document.createElement('div');\n",
              "        docLink.innerHTML = docLinkHtml;\n",
              "        element.appendChild(docLink);\n",
              "      }\n",
              "    </script>\n",
              "  </div>\n",
              "\n",
              "\n",
              "<div id=\"df-d7f4eafa-69a4-4c24-9d9d-39d302fc301d\">\n",
              "  <button class=\"colab-df-quickchart\" onclick=\"quickchart('df-d7f4eafa-69a4-4c24-9d9d-39d302fc301d')\"\n",
              "            title=\"Suggest charts.\"\n",
              "            style=\"display:none;\">\n",
              "\n",
              "<svg xmlns=\"http://www.w3.org/2000/svg\" height=\"24px\"viewBox=\"0 0 24 24\"\n",
              "     width=\"24px\">\n",
              "    <g>\n",
              "        <path d=\"M19 3H5c-1.1 0-2 .9-2 2v14c0 1.1.9 2 2 2h14c1.1 0 2-.9 2-2V5c0-1.1-.9-2-2-2zM9 17H7v-7h2v7zm4 0h-2V7h2v10zm4 0h-2v-4h2v4z\"/>\n",
              "    </g>\n",
              "</svg>\n",
              "  </button>\n",
              "\n",
              "<style>\n",
              "  .colab-df-quickchart {\n",
              "      --bg-color: #E8F0FE;\n",
              "      --fill-color: #1967D2;\n",
              "      --hover-bg-color: #E2EBFA;\n",
              "      --hover-fill-color: #174EA6;\n",
              "      --disabled-fill-color: #AAA;\n",
              "      --disabled-bg-color: #DDD;\n",
              "  }\n",
              "\n",
              "  [theme=dark] .colab-df-quickchart {\n",
              "      --bg-color: #3B4455;\n",
              "      --fill-color: #D2E3FC;\n",
              "      --hover-bg-color: #434B5C;\n",
              "      --hover-fill-color: #FFFFFF;\n",
              "      --disabled-bg-color: #3B4455;\n",
              "      --disabled-fill-color: #666;\n",
              "  }\n",
              "\n",
              "  .colab-df-quickchart {\n",
              "    background-color: var(--bg-color);\n",
              "    border: none;\n",
              "    border-radius: 50%;\n",
              "    cursor: pointer;\n",
              "    display: none;\n",
              "    fill: var(--fill-color);\n",
              "    height: 32px;\n",
              "    padding: 0;\n",
              "    width: 32px;\n",
              "  }\n",
              "\n",
              "  .colab-df-quickchart:hover {\n",
              "    background-color: var(--hover-bg-color);\n",
              "    box-shadow: 0 1px 2px rgba(60, 64, 67, 0.3), 0 1px 3px 1px rgba(60, 64, 67, 0.15);\n",
              "    fill: var(--button-hover-fill-color);\n",
              "  }\n",
              "\n",
              "  .colab-df-quickchart-complete:disabled,\n",
              "  .colab-df-quickchart-complete:disabled:hover {\n",
              "    background-color: var(--disabled-bg-color);\n",
              "    fill: var(--disabled-fill-color);\n",
              "    box-shadow: none;\n",
              "  }\n",
              "\n",
              "  .colab-df-spinner {\n",
              "    border: 2px solid var(--fill-color);\n",
              "    border-color: transparent;\n",
              "    border-bottom-color: var(--fill-color);\n",
              "    animation:\n",
              "      spin 1s steps(1) infinite;\n",
              "  }\n",
              "\n",
              "  @keyframes spin {\n",
              "    0% {\n",
              "      border-color: transparent;\n",
              "      border-bottom-color: var(--fill-color);\n",
              "      border-left-color: var(--fill-color);\n",
              "    }\n",
              "    20% {\n",
              "      border-color: transparent;\n",
              "      border-left-color: var(--fill-color);\n",
              "      border-top-color: var(--fill-color);\n",
              "    }\n",
              "    30% {\n",
              "      border-color: transparent;\n",
              "      border-left-color: var(--fill-color);\n",
              "      border-top-color: var(--fill-color);\n",
              "      border-right-color: var(--fill-color);\n",
              "    }\n",
              "    40% {\n",
              "      border-color: transparent;\n",
              "      border-right-color: var(--fill-color);\n",
              "      border-top-color: var(--fill-color);\n",
              "    }\n",
              "    60% {\n",
              "      border-color: transparent;\n",
              "      border-right-color: var(--fill-color);\n",
              "    }\n",
              "    80% {\n",
              "      border-color: transparent;\n",
              "      border-right-color: var(--fill-color);\n",
              "      border-bottom-color: var(--fill-color);\n",
              "    }\n",
              "    90% {\n",
              "      border-color: transparent;\n",
              "      border-bottom-color: var(--fill-color);\n",
              "    }\n",
              "  }\n",
              "</style>\n",
              "\n",
              "  <script>\n",
              "    async function quickchart(key) {\n",
              "      const quickchartButtonEl =\n",
              "        document.querySelector('#' + key + ' button');\n",
              "      quickchartButtonEl.disabled = true;  // To prevent multiple clicks.\n",
              "      quickchartButtonEl.classList.add('colab-df-spinner');\n",
              "      try {\n",
              "        const charts = await google.colab.kernel.invokeFunction(\n",
              "            'suggestCharts', [key], {});\n",
              "      } catch (error) {\n",
              "        console.error('Error during call to suggestCharts:', error);\n",
              "      }\n",
              "      quickchartButtonEl.classList.remove('colab-df-spinner');\n",
              "      quickchartButtonEl.classList.add('colab-df-quickchart-complete');\n",
              "    }\n",
              "    (() => {\n",
              "      let quickchartButtonEl =\n",
              "        document.querySelector('#df-d7f4eafa-69a4-4c24-9d9d-39d302fc301d button');\n",
              "      quickchartButtonEl.style.display =\n",
              "        google.colab.kernel.accessAllowed ? 'block' : 'none';\n",
              "    })();\n",
              "  </script>\n",
              "</div>\n",
              "    </div>\n",
              "  </div>\n"
            ]
          },
          "metadata": {},
          "execution_count": 14
        }
      ],
      "source": [
        "# clean the text\n",
        "posts_df['source'] = posts_df['source'].apply(clean_doc)\n",
        "posts_df['content'] = posts_df['content'].apply(clean_doc)\n",
        "posts_df.head()"
      ]
    },
    {
      "cell_type": "code",
      "execution_count": 15,
      "metadata": {
        "colab": {
          "base_uri": "https://localhost:8080/",
          "height": 206
        },
        "id": "qQcwTwlKxGLt",
        "outputId": "f6d0a5e6-9477-437d-a42f-c6a01a439c07"
      },
      "outputs": [
        {
          "output_type": "execute_result",
          "data": {
            "text/plain": [
              "           source                                            content  \\\n",
              "0   facebook post    video show child disappearing inside school bus   \n",
              "1  instagram post  new york city spraying unsafe pesticide combat...   \n",
              "2  instagram post          sept video show president joe body double   \n",
              "3   facebook post  en ciertos estados el gobierno de estados unid...   \n",
              "4     tiktok post                     arizona senate gov katie hobbs   \n",
              "\n",
              "  classification                                   combined_content  \n",
              "0     incredible  facebook post video show child disappearing in...  \n",
              "1     incredible  instagram post new york city spraying unsafe p...  \n",
              "2     incredible  instagram post sept video show president joe b...  \n",
              "3     incredible  facebook post en ciertos estados el gobierno d...  \n",
              "4     incredible         tiktok post arizona senate gov katie hobbs  "
            ],
            "text/html": [
              "\n",
              "  <div id=\"df-e53fe88f-4f0b-49b7-a3db-f60a749270c9\" class=\"colab-df-container\">\n",
              "    <div>\n",
              "<style scoped>\n",
              "    .dataframe tbody tr th:only-of-type {\n",
              "        vertical-align: middle;\n",
              "    }\n",
              "\n",
              "    .dataframe tbody tr th {\n",
              "        vertical-align: top;\n",
              "    }\n",
              "\n",
              "    .dataframe thead th {\n",
              "        text-align: right;\n",
              "    }\n",
              "</style>\n",
              "<table border=\"1\" class=\"dataframe\">\n",
              "  <thead>\n",
              "    <tr style=\"text-align: right;\">\n",
              "      <th></th>\n",
              "      <th>source</th>\n",
              "      <th>content</th>\n",
              "      <th>classification</th>\n",
              "      <th>combined_content</th>\n",
              "    </tr>\n",
              "  </thead>\n",
              "  <tbody>\n",
              "    <tr>\n",
              "      <th>0</th>\n",
              "      <td>facebook post</td>\n",
              "      <td>video show child disappearing inside school bus</td>\n",
              "      <td>incredible</td>\n",
              "      <td>facebook post video show child disappearing in...</td>\n",
              "    </tr>\n",
              "    <tr>\n",
              "      <th>1</th>\n",
              "      <td>instagram post</td>\n",
              "      <td>new york city spraying unsafe pesticide combat...</td>\n",
              "      <td>incredible</td>\n",
              "      <td>instagram post new york city spraying unsafe p...</td>\n",
              "    </tr>\n",
              "    <tr>\n",
              "      <th>2</th>\n",
              "      <td>instagram post</td>\n",
              "      <td>sept video show president joe body double</td>\n",
              "      <td>incredible</td>\n",
              "      <td>instagram post sept video show president joe b...</td>\n",
              "    </tr>\n",
              "    <tr>\n",
              "      <th>3</th>\n",
              "      <td>facebook post</td>\n",
              "      <td>en ciertos estados el gobierno de estados unid...</td>\n",
              "      <td>incredible</td>\n",
              "      <td>facebook post en ciertos estados el gobierno d...</td>\n",
              "    </tr>\n",
              "    <tr>\n",
              "      <th>4</th>\n",
              "      <td>tiktok post</td>\n",
              "      <td>arizona senate gov katie hobbs</td>\n",
              "      <td>incredible</td>\n",
              "      <td>tiktok post arizona senate gov katie hobbs</td>\n",
              "    </tr>\n",
              "  </tbody>\n",
              "</table>\n",
              "</div>\n",
              "    <div class=\"colab-df-buttons\">\n",
              "\n",
              "  <div class=\"colab-df-container\">\n",
              "    <button class=\"colab-df-convert\" onclick=\"convertToInteractive('df-e53fe88f-4f0b-49b7-a3db-f60a749270c9')\"\n",
              "            title=\"Convert this dataframe to an interactive table.\"\n",
              "            style=\"display:none;\">\n",
              "\n",
              "  <svg xmlns=\"http://www.w3.org/2000/svg\" height=\"24px\" viewBox=\"0 -960 960 960\">\n",
              "    <path d=\"M120-120v-720h720v720H120Zm60-500h600v-160H180v160Zm220 220h160v-160H400v160Zm0 220h160v-160H400v160ZM180-400h160v-160H180v160Zm440 0h160v-160H620v160ZM180-180h160v-160H180v160Zm440 0h160v-160H620v160Z\"/>\n",
              "  </svg>\n",
              "    </button>\n",
              "\n",
              "  <style>\n",
              "    .colab-df-container {\n",
              "      display:flex;\n",
              "      gap: 12px;\n",
              "    }\n",
              "\n",
              "    .colab-df-convert {\n",
              "      background-color: #E8F0FE;\n",
              "      border: none;\n",
              "      border-radius: 50%;\n",
              "      cursor: pointer;\n",
              "      display: none;\n",
              "      fill: #1967D2;\n",
              "      height: 32px;\n",
              "      padding: 0 0 0 0;\n",
              "      width: 32px;\n",
              "    }\n",
              "\n",
              "    .colab-df-convert:hover {\n",
              "      background-color: #E2EBFA;\n",
              "      box-shadow: 0px 1px 2px rgba(60, 64, 67, 0.3), 0px 1px 3px 1px rgba(60, 64, 67, 0.15);\n",
              "      fill: #174EA6;\n",
              "    }\n",
              "\n",
              "    .colab-df-buttons div {\n",
              "      margin-bottom: 4px;\n",
              "    }\n",
              "\n",
              "    [theme=dark] .colab-df-convert {\n",
              "      background-color: #3B4455;\n",
              "      fill: #D2E3FC;\n",
              "    }\n",
              "\n",
              "    [theme=dark] .colab-df-convert:hover {\n",
              "      background-color: #434B5C;\n",
              "      box-shadow: 0px 1px 3px 1px rgba(0, 0, 0, 0.15);\n",
              "      filter: drop-shadow(0px 1px 2px rgba(0, 0, 0, 0.3));\n",
              "      fill: #FFFFFF;\n",
              "    }\n",
              "  </style>\n",
              "\n",
              "    <script>\n",
              "      const buttonEl =\n",
              "        document.querySelector('#df-e53fe88f-4f0b-49b7-a3db-f60a749270c9 button.colab-df-convert');\n",
              "      buttonEl.style.display =\n",
              "        google.colab.kernel.accessAllowed ? 'block' : 'none';\n",
              "\n",
              "      async function convertToInteractive(key) {\n",
              "        const element = document.querySelector('#df-e53fe88f-4f0b-49b7-a3db-f60a749270c9');\n",
              "        const dataTable =\n",
              "          await google.colab.kernel.invokeFunction('convertToInteractive',\n",
              "                                                    [key], {});\n",
              "        if (!dataTable) return;\n",
              "\n",
              "        const docLinkHtml = 'Like what you see? Visit the ' +\n",
              "          '<a target=\"_blank\" href=https://colab.research.google.com/notebooks/data_table.ipynb>data table notebook</a>'\n",
              "          + ' to learn more about interactive tables.';\n",
              "        element.innerHTML = '';\n",
              "        dataTable['output_type'] = 'display_data';\n",
              "        await google.colab.output.renderOutput(dataTable, element);\n",
              "        const docLink = document.createElement('div');\n",
              "        docLink.innerHTML = docLinkHtml;\n",
              "        element.appendChild(docLink);\n",
              "      }\n",
              "    </script>\n",
              "  </div>\n",
              "\n",
              "\n",
              "<div id=\"df-636179c3-b997-423d-8316-c4238d9e0867\">\n",
              "  <button class=\"colab-df-quickchart\" onclick=\"quickchart('df-636179c3-b997-423d-8316-c4238d9e0867')\"\n",
              "            title=\"Suggest charts.\"\n",
              "            style=\"display:none;\">\n",
              "\n",
              "<svg xmlns=\"http://www.w3.org/2000/svg\" height=\"24px\"viewBox=\"0 0 24 24\"\n",
              "     width=\"24px\">\n",
              "    <g>\n",
              "        <path d=\"M19 3H5c-1.1 0-2 .9-2 2v14c0 1.1.9 2 2 2h14c1.1 0 2-.9 2-2V5c0-1.1-.9-2-2-2zM9 17H7v-7h2v7zm4 0h-2V7h2v10zm4 0h-2v-4h2v4z\"/>\n",
              "    </g>\n",
              "</svg>\n",
              "  </button>\n",
              "\n",
              "<style>\n",
              "  .colab-df-quickchart {\n",
              "      --bg-color: #E8F0FE;\n",
              "      --fill-color: #1967D2;\n",
              "      --hover-bg-color: #E2EBFA;\n",
              "      --hover-fill-color: #174EA6;\n",
              "      --disabled-fill-color: #AAA;\n",
              "      --disabled-bg-color: #DDD;\n",
              "  }\n",
              "\n",
              "  [theme=dark] .colab-df-quickchart {\n",
              "      --bg-color: #3B4455;\n",
              "      --fill-color: #D2E3FC;\n",
              "      --hover-bg-color: #434B5C;\n",
              "      --hover-fill-color: #FFFFFF;\n",
              "      --disabled-bg-color: #3B4455;\n",
              "      --disabled-fill-color: #666;\n",
              "  }\n",
              "\n",
              "  .colab-df-quickchart {\n",
              "    background-color: var(--bg-color);\n",
              "    border: none;\n",
              "    border-radius: 50%;\n",
              "    cursor: pointer;\n",
              "    display: none;\n",
              "    fill: var(--fill-color);\n",
              "    height: 32px;\n",
              "    padding: 0;\n",
              "    width: 32px;\n",
              "  }\n",
              "\n",
              "  .colab-df-quickchart:hover {\n",
              "    background-color: var(--hover-bg-color);\n",
              "    box-shadow: 0 1px 2px rgba(60, 64, 67, 0.3), 0 1px 3px 1px rgba(60, 64, 67, 0.15);\n",
              "    fill: var(--button-hover-fill-color);\n",
              "  }\n",
              "\n",
              "  .colab-df-quickchart-complete:disabled,\n",
              "  .colab-df-quickchart-complete:disabled:hover {\n",
              "    background-color: var(--disabled-bg-color);\n",
              "    fill: var(--disabled-fill-color);\n",
              "    box-shadow: none;\n",
              "  }\n",
              "\n",
              "  .colab-df-spinner {\n",
              "    border: 2px solid var(--fill-color);\n",
              "    border-color: transparent;\n",
              "    border-bottom-color: var(--fill-color);\n",
              "    animation:\n",
              "      spin 1s steps(1) infinite;\n",
              "  }\n",
              "\n",
              "  @keyframes spin {\n",
              "    0% {\n",
              "      border-color: transparent;\n",
              "      border-bottom-color: var(--fill-color);\n",
              "      border-left-color: var(--fill-color);\n",
              "    }\n",
              "    20% {\n",
              "      border-color: transparent;\n",
              "      border-left-color: var(--fill-color);\n",
              "      border-top-color: var(--fill-color);\n",
              "    }\n",
              "    30% {\n",
              "      border-color: transparent;\n",
              "      border-left-color: var(--fill-color);\n",
              "      border-top-color: var(--fill-color);\n",
              "      border-right-color: var(--fill-color);\n",
              "    }\n",
              "    40% {\n",
              "      border-color: transparent;\n",
              "      border-right-color: var(--fill-color);\n",
              "      border-top-color: var(--fill-color);\n",
              "    }\n",
              "    60% {\n",
              "      border-color: transparent;\n",
              "      border-right-color: var(--fill-color);\n",
              "    }\n",
              "    80% {\n",
              "      border-color: transparent;\n",
              "      border-right-color: var(--fill-color);\n",
              "      border-bottom-color: var(--fill-color);\n",
              "    }\n",
              "    90% {\n",
              "      border-color: transparent;\n",
              "      border-bottom-color: var(--fill-color);\n",
              "    }\n",
              "  }\n",
              "</style>\n",
              "\n",
              "  <script>\n",
              "    async function quickchart(key) {\n",
              "      const quickchartButtonEl =\n",
              "        document.querySelector('#' + key + ' button');\n",
              "      quickchartButtonEl.disabled = true;  // To prevent multiple clicks.\n",
              "      quickchartButtonEl.classList.add('colab-df-spinner');\n",
              "      try {\n",
              "        const charts = await google.colab.kernel.invokeFunction(\n",
              "            'suggestCharts', [key], {});\n",
              "      } catch (error) {\n",
              "        console.error('Error during call to suggestCharts:', error);\n",
              "      }\n",
              "      quickchartButtonEl.classList.remove('colab-df-spinner');\n",
              "      quickchartButtonEl.classList.add('colab-df-quickchart-complete');\n",
              "    }\n",
              "    (() => {\n",
              "      let quickchartButtonEl =\n",
              "        document.querySelector('#df-636179c3-b997-423d-8316-c4238d9e0867 button');\n",
              "      quickchartButtonEl.style.display =\n",
              "        google.colab.kernel.accessAllowed ? 'block' : 'none';\n",
              "    })();\n",
              "  </script>\n",
              "</div>\n",
              "    </div>\n",
              "  </div>\n"
            ]
          },
          "metadata": {},
          "execution_count": 15
        }
      ],
      "source": [
        "# Combine the source and content into a single column `combined_content`\n",
        "posts_df['combined_content'] = (posts_df['source'] + ' ' + posts_df['content'])\n",
        "posts_df.head()"
      ]
    },
    {
      "cell_type": "code",
      "execution_count": 16,
      "metadata": {
        "id": "Uj9iSu_lx9u7"
      },
      "outputs": [],
      "source": [
        "import numpy as np\n",
        "\n",
        "# split the data into independent(X) and dependent(y) variables\n",
        "X = posts_df['combined_content'].values\n",
        "y = posts_df['classification'].values"
      ]
    },
    {
      "cell_type": "code",
      "execution_count": 17,
      "metadata": {
        "colab": {
          "base_uri": "https://localhost:8080/"
        },
        "id": "4zswwWn4yWsO",
        "outputId": "56f8fdd6-36b7-4d19-bebc-8036c08298b9"
      },
      "outputs": [
        {
          "output_type": "execute_result",
          "data": {
            "text/plain": [
              "array(['facebook post video show child disappearing inside school bus',\n",
              "       'instagram post new york city spraying unsafe pesticide combat west nile virus',\n",
              "       'instagram post sept video show president joe body double',\n",
              "       'facebook post en ciertos estados el gobierno de estados unidos comprará los paneles por ti te los dará sin ningún costo en caso de que te pas energía solar en la próximas semanas',\n",
              "       'tiktok post arizona senate gov katie hobbs'], dtype=object)"
            ]
          },
          "metadata": {},
          "execution_count": 17
        }
      ],
      "source": [
        "X[:5]"
      ]
    },
    {
      "cell_type": "code",
      "execution_count": 18,
      "metadata": {
        "colab": {
          "base_uri": "https://localhost:8080/"
        },
        "id": "grYfGYn3yYcm",
        "outputId": "4e688d14-4e34-495e-e934-544bd9d20207"
      },
      "outputs": [
        {
          "output_type": "execute_result",
          "data": {
            "text/plain": [
              "array(['incredible', 'incredible', 'incredible', 'incredible',\n",
              "       'incredible'], dtype=object)"
            ]
          },
          "metadata": {},
          "execution_count": 18
        }
      ],
      "source": [
        "y[:5]"
      ]
    },
    {
      "cell_type": "markdown",
      "metadata": {
        "id": "HyAqWvy21M0Q"
      },
      "source": [
        "## Comparing machine learning models\n",
        "I will be using cross validation to train various machine learning models and compare their accuracy scores."
      ]
    },
    {
      "cell_type": "code",
      "execution_count": 19,
      "metadata": {
        "id": "_D1UlQ3D2uvj"
      },
      "outputs": [],
      "source": [
        "# required libraries\n",
        "import numpy as np\n",
        "from sklearn.model_selection import cross_val_score, train_test_split\n",
        "from sklearn.feature_extraction.text import CountVectorizer, TfidfVectorizer\n",
        "from sklearn.linear_model import LogisticRegression\n",
        "from sklearn.naive_bayes import MultinomialNB\n",
        "from sklearn.neighbors import KNeighborsClassifier\n",
        "from sklearn.ensemble import RandomForestClassifier\n",
        "from sklearn.metrics import accuracy_score"
      ]
    },
    {
      "cell_type": "code",
      "execution_count": 20,
      "metadata": {
        "id": "4FJQVhn-46yf"
      },
      "outputs": [],
      "source": [
        "# Transform the training data\n",
        "tfidf = TfidfVectorizer(max_features=5000)"
      ]
    },
    {
      "cell_type": "code",
      "execution_count": 21,
      "metadata": {
        "colab": {
          "base_uri": "https://localhost:8080/"
        },
        "id": "fVCK9bv_5IqT",
        "outputId": "d00016e6-a6f5-49e4-b840-085404b1626b"
      },
      "outputs": [
        {
          "output_type": "execute_result",
          "data": {
            "text/plain": [
              "array([[0., 0., 0., ..., 0., 0., 0.],\n",
              "       [0., 0., 0., ..., 0., 0., 0.],\n",
              "       [0., 0., 0., ..., 0., 0., 0.],\n",
              "       ...,\n",
              "       [0., 0., 0., ..., 0., 0., 0.],\n",
              "       [0., 0., 0., ..., 0., 0., 0.],\n",
              "       [0., 0., 0., ..., 0., 0., 0.]])"
            ]
          },
          "metadata": {},
          "execution_count": 21
        }
      ],
      "source": [
        "# Transform the test data\n",
        "X_tfidf = tfidf.fit_transform(X).toarray()\n",
        "X_tfidf"
      ]
    },
    {
      "cell_type": "code",
      "execution_count": 22,
      "metadata": {
        "id": "AXRFObMX7R1p"
      },
      "outputs": [],
      "source": [
        "# Create a dictionary to store accuracy scores\n",
        "scores = {}"
      ]
    },
    {
      "cell_type": "markdown",
      "metadata": {
        "id": "D_TNsYxa5mzd"
      },
      "source": [
        "### Logistic Regression"
      ]
    },
    {
      "cell_type": "code",
      "execution_count": 23,
      "metadata": {
        "colab": {
          "base_uri": "https://localhost:8080/"
        },
        "id": "_zZHiGxu5yqg",
        "outputId": "042591bd-cb8d-411a-c21d-553015df2a4b"
      },
      "outputs": [
        {
          "output_type": "execute_result",
          "data": {
            "text/plain": [
              "0.6028020729286009"
            ]
          },
          "metadata": {},
          "execution_count": 23
        }
      ],
      "source": [
        "lr = LogisticRegression(solver='liblinear')\n",
        "scores[\"Logistic Regression\"] = cross_val_score(lr, X_tfidf, y, cv=5, scoring='accuracy').mean()\n",
        "scores[\"Logistic Regression\"]"
      ]
    },
    {
      "cell_type": "markdown",
      "metadata": {
        "id": "xHXYfPgX79eP"
      },
      "source": [
        "### KNN"
      ]
    },
    {
      "cell_type": "code",
      "execution_count": 24,
      "metadata": {
        "colab": {
          "base_uri": "https://localhost:8080/"
        },
        "id": "oKbeUjv88DV-",
        "outputId": "59c7b812-2da0-43cb-ff4a-4148ca8fe1e8"
      },
      "outputs": [
        {
          "output_type": "execute_result",
          "data": {
            "text/plain": [
              "0.6030177199988521"
            ]
          },
          "metadata": {},
          "execution_count": 24
        }
      ],
      "source": [
        "knn_classifier = KNeighborsClassifier(n_neighbors=5)\n",
        "scores[\"KNN\"] = cross_val_score(knn_classifier, X_tfidf, y, cv=10, scoring='accuracy').mean()\n",
        "scores[\"KNN\"]"
      ]
    },
    {
      "cell_type": "markdown",
      "metadata": {
        "id": "reKq5tNM8rh2"
      },
      "source": [
        "### Random Forests\n"
      ]
    },
    {
      "cell_type": "code",
      "execution_count": 25,
      "metadata": {
        "colab": {
          "base_uri": "https://localhost:8080/"
        },
        "id": "fEFrX4mS89HB",
        "outputId": "9dbc8499-21b6-4eca-c20e-815138c8841d"
      },
      "outputs": [
        {
          "output_type": "execute_result",
          "data": {
            "text/plain": [
              "0.6141260926377804"
            ]
          },
          "metadata": {},
          "execution_count": 25
        }
      ],
      "source": [
        "rfc = RandomForestClassifier(n_estimators = 10, criterion = 'entropy', random_state=42)\n",
        "scores[\"Random Forests\"] = cross_val_score(rfc, X_tfidf, y, cv=5, scoring='accuracy').mean()\n",
        "scores[\"Random Forests\"]"
      ]
    },
    {
      "cell_type": "markdown",
      "metadata": {
        "id": "zHZtiNPq9FNZ"
      },
      "source": [
        "### Naive Bayes(Multinomial)"
      ]
    },
    {
      "cell_type": "code",
      "execution_count": 26,
      "metadata": {
        "colab": {
          "base_uri": "https://localhost:8080/"
        },
        "id": "6nU69Cl49Kxf",
        "outputId": "a32a12d0-51af-468f-d03e-37bf713896f9"
      },
      "outputs": [
        {
          "output_type": "execute_result",
          "data": {
            "text/plain": [
              "0.6153288578551284"
            ]
          },
          "metadata": {},
          "execution_count": 26
        }
      ],
      "source": [
        "mnb = MultinomialNB()\n",
        "scores[\"Naive Bayes\"] = cross_val_score(mnb, X_tfidf, y, cv=5, scoring='accuracy').mean()\n",
        "scores[\"Naive Bayes\"]"
      ]
    },
    {
      "cell_type": "markdown",
      "metadata": {
        "id": "syOwz5DAYY5E"
      },
      "source": [
        "### Compare the scores"
      ]
    },
    {
      "cell_type": "code",
      "execution_count": 27,
      "metadata": {
        "colab": {
          "base_uri": "https://localhost:8080/"
        },
        "id": "61_JC6lgYdsn",
        "outputId": "ceac9844-06c5-48a1-c3ae-999ad463f628"
      },
      "outputs": [
        {
          "output_type": "execute_result",
          "data": {
            "text/plain": [
              "{'Logistic Regression': 0.6028020729286009,\n",
              " 'KNN': 0.6030177199988521,\n",
              " 'Random Forests': 0.6141260926377804,\n",
              " 'Naive Bayes': 0.6153288578551284}"
            ]
          },
          "metadata": {},
          "execution_count": 27
        }
      ],
      "source": [
        "scores"
      ]
    },
    {
      "cell_type": "code",
      "execution_count": 28,
      "metadata": {
        "colab": {
          "base_uri": "https://localhost:8080/",
          "height": 175
        },
        "id": "-djVGBsrYzP0",
        "outputId": "e24e40ed-b749-4ecb-d884-3560a693075c"
      },
      "outputs": [
        {
          "output_type": "execute_result",
          "data": {
            "text/plain": [
              "                 Model     Score\n",
              "0  Logistic Regression  0.602802\n",
              "1                  KNN  0.603018\n",
              "2       Random Forests  0.614126\n",
              "3          Naive Bayes  0.615329"
            ],
            "text/html": [
              "\n",
              "  <div id=\"df-8d197483-8f48-40c3-b738-c62af003e3a3\" class=\"colab-df-container\">\n",
              "    <div>\n",
              "<style scoped>\n",
              "    .dataframe tbody tr th:only-of-type {\n",
              "        vertical-align: middle;\n",
              "    }\n",
              "\n",
              "    .dataframe tbody tr th {\n",
              "        vertical-align: top;\n",
              "    }\n",
              "\n",
              "    .dataframe thead th {\n",
              "        text-align: right;\n",
              "    }\n",
              "</style>\n",
              "<table border=\"1\" class=\"dataframe\">\n",
              "  <thead>\n",
              "    <tr style=\"text-align: right;\">\n",
              "      <th></th>\n",
              "      <th>Model</th>\n",
              "      <th>Score</th>\n",
              "    </tr>\n",
              "  </thead>\n",
              "  <tbody>\n",
              "    <tr>\n",
              "      <th>0</th>\n",
              "      <td>Logistic Regression</td>\n",
              "      <td>0.602802</td>\n",
              "    </tr>\n",
              "    <tr>\n",
              "      <th>1</th>\n",
              "      <td>KNN</td>\n",
              "      <td>0.603018</td>\n",
              "    </tr>\n",
              "    <tr>\n",
              "      <th>2</th>\n",
              "      <td>Random Forests</td>\n",
              "      <td>0.614126</td>\n",
              "    </tr>\n",
              "    <tr>\n",
              "      <th>3</th>\n",
              "      <td>Naive Bayes</td>\n",
              "      <td>0.615329</td>\n",
              "    </tr>\n",
              "  </tbody>\n",
              "</table>\n",
              "</div>\n",
              "    <div class=\"colab-df-buttons\">\n",
              "\n",
              "  <div class=\"colab-df-container\">\n",
              "    <button class=\"colab-df-convert\" onclick=\"convertToInteractive('df-8d197483-8f48-40c3-b738-c62af003e3a3')\"\n",
              "            title=\"Convert this dataframe to an interactive table.\"\n",
              "            style=\"display:none;\">\n",
              "\n",
              "  <svg xmlns=\"http://www.w3.org/2000/svg\" height=\"24px\" viewBox=\"0 -960 960 960\">\n",
              "    <path d=\"M120-120v-720h720v720H120Zm60-500h600v-160H180v160Zm220 220h160v-160H400v160Zm0 220h160v-160H400v160ZM180-400h160v-160H180v160Zm440 0h160v-160H620v160ZM180-180h160v-160H180v160Zm440 0h160v-160H620v160Z\"/>\n",
              "  </svg>\n",
              "    </button>\n",
              "\n",
              "  <style>\n",
              "    .colab-df-container {\n",
              "      display:flex;\n",
              "      gap: 12px;\n",
              "    }\n",
              "\n",
              "    .colab-df-convert {\n",
              "      background-color: #E8F0FE;\n",
              "      border: none;\n",
              "      border-radius: 50%;\n",
              "      cursor: pointer;\n",
              "      display: none;\n",
              "      fill: #1967D2;\n",
              "      height: 32px;\n",
              "      padding: 0 0 0 0;\n",
              "      width: 32px;\n",
              "    }\n",
              "\n",
              "    .colab-df-convert:hover {\n",
              "      background-color: #E2EBFA;\n",
              "      box-shadow: 0px 1px 2px rgba(60, 64, 67, 0.3), 0px 1px 3px 1px rgba(60, 64, 67, 0.15);\n",
              "      fill: #174EA6;\n",
              "    }\n",
              "\n",
              "    .colab-df-buttons div {\n",
              "      margin-bottom: 4px;\n",
              "    }\n",
              "\n",
              "    [theme=dark] .colab-df-convert {\n",
              "      background-color: #3B4455;\n",
              "      fill: #D2E3FC;\n",
              "    }\n",
              "\n",
              "    [theme=dark] .colab-df-convert:hover {\n",
              "      background-color: #434B5C;\n",
              "      box-shadow: 0px 1px 3px 1px rgba(0, 0, 0, 0.15);\n",
              "      filter: drop-shadow(0px 1px 2px rgba(0, 0, 0, 0.3));\n",
              "      fill: #FFFFFF;\n",
              "    }\n",
              "  </style>\n",
              "\n",
              "    <script>\n",
              "      const buttonEl =\n",
              "        document.querySelector('#df-8d197483-8f48-40c3-b738-c62af003e3a3 button.colab-df-convert');\n",
              "      buttonEl.style.display =\n",
              "        google.colab.kernel.accessAllowed ? 'block' : 'none';\n",
              "\n",
              "      async function convertToInteractive(key) {\n",
              "        const element = document.querySelector('#df-8d197483-8f48-40c3-b738-c62af003e3a3');\n",
              "        const dataTable =\n",
              "          await google.colab.kernel.invokeFunction('convertToInteractive',\n",
              "                                                    [key], {});\n",
              "        if (!dataTable) return;\n",
              "\n",
              "        const docLinkHtml = 'Like what you see? Visit the ' +\n",
              "          '<a target=\"_blank\" href=https://colab.research.google.com/notebooks/data_table.ipynb>data table notebook</a>'\n",
              "          + ' to learn more about interactive tables.';\n",
              "        element.innerHTML = '';\n",
              "        dataTable['output_type'] = 'display_data';\n",
              "        await google.colab.output.renderOutput(dataTable, element);\n",
              "        const docLink = document.createElement('div');\n",
              "        docLink.innerHTML = docLinkHtml;\n",
              "        element.appendChild(docLink);\n",
              "      }\n",
              "    </script>\n",
              "  </div>\n",
              "\n",
              "\n",
              "<div id=\"df-1deab520-8e06-47be-873b-138dba8229c6\">\n",
              "  <button class=\"colab-df-quickchart\" onclick=\"quickchart('df-1deab520-8e06-47be-873b-138dba8229c6')\"\n",
              "            title=\"Suggest charts.\"\n",
              "            style=\"display:none;\">\n",
              "\n",
              "<svg xmlns=\"http://www.w3.org/2000/svg\" height=\"24px\"viewBox=\"0 0 24 24\"\n",
              "     width=\"24px\">\n",
              "    <g>\n",
              "        <path d=\"M19 3H5c-1.1 0-2 .9-2 2v14c0 1.1.9 2 2 2h14c1.1 0 2-.9 2-2V5c0-1.1-.9-2-2-2zM9 17H7v-7h2v7zm4 0h-2V7h2v10zm4 0h-2v-4h2v4z\"/>\n",
              "    </g>\n",
              "</svg>\n",
              "  </button>\n",
              "\n",
              "<style>\n",
              "  .colab-df-quickchart {\n",
              "      --bg-color: #E8F0FE;\n",
              "      --fill-color: #1967D2;\n",
              "      --hover-bg-color: #E2EBFA;\n",
              "      --hover-fill-color: #174EA6;\n",
              "      --disabled-fill-color: #AAA;\n",
              "      --disabled-bg-color: #DDD;\n",
              "  }\n",
              "\n",
              "  [theme=dark] .colab-df-quickchart {\n",
              "      --bg-color: #3B4455;\n",
              "      --fill-color: #D2E3FC;\n",
              "      --hover-bg-color: #434B5C;\n",
              "      --hover-fill-color: #FFFFFF;\n",
              "      --disabled-bg-color: #3B4455;\n",
              "      --disabled-fill-color: #666;\n",
              "  }\n",
              "\n",
              "  .colab-df-quickchart {\n",
              "    background-color: var(--bg-color);\n",
              "    border: none;\n",
              "    border-radius: 50%;\n",
              "    cursor: pointer;\n",
              "    display: none;\n",
              "    fill: var(--fill-color);\n",
              "    height: 32px;\n",
              "    padding: 0;\n",
              "    width: 32px;\n",
              "  }\n",
              "\n",
              "  .colab-df-quickchart:hover {\n",
              "    background-color: var(--hover-bg-color);\n",
              "    box-shadow: 0 1px 2px rgba(60, 64, 67, 0.3), 0 1px 3px 1px rgba(60, 64, 67, 0.15);\n",
              "    fill: var(--button-hover-fill-color);\n",
              "  }\n",
              "\n",
              "  .colab-df-quickchart-complete:disabled,\n",
              "  .colab-df-quickchart-complete:disabled:hover {\n",
              "    background-color: var(--disabled-bg-color);\n",
              "    fill: var(--disabled-fill-color);\n",
              "    box-shadow: none;\n",
              "  }\n",
              "\n",
              "  .colab-df-spinner {\n",
              "    border: 2px solid var(--fill-color);\n",
              "    border-color: transparent;\n",
              "    border-bottom-color: var(--fill-color);\n",
              "    animation:\n",
              "      spin 1s steps(1) infinite;\n",
              "  }\n",
              "\n",
              "  @keyframes spin {\n",
              "    0% {\n",
              "      border-color: transparent;\n",
              "      border-bottom-color: var(--fill-color);\n",
              "      border-left-color: var(--fill-color);\n",
              "    }\n",
              "    20% {\n",
              "      border-color: transparent;\n",
              "      border-left-color: var(--fill-color);\n",
              "      border-top-color: var(--fill-color);\n",
              "    }\n",
              "    30% {\n",
              "      border-color: transparent;\n",
              "      border-left-color: var(--fill-color);\n",
              "      border-top-color: var(--fill-color);\n",
              "      border-right-color: var(--fill-color);\n",
              "    }\n",
              "    40% {\n",
              "      border-color: transparent;\n",
              "      border-right-color: var(--fill-color);\n",
              "      border-top-color: var(--fill-color);\n",
              "    }\n",
              "    60% {\n",
              "      border-color: transparent;\n",
              "      border-right-color: var(--fill-color);\n",
              "    }\n",
              "    80% {\n",
              "      border-color: transparent;\n",
              "      border-right-color: var(--fill-color);\n",
              "      border-bottom-color: var(--fill-color);\n",
              "    }\n",
              "    90% {\n",
              "      border-color: transparent;\n",
              "      border-bottom-color: var(--fill-color);\n",
              "    }\n",
              "  }\n",
              "</style>\n",
              "\n",
              "  <script>\n",
              "    async function quickchart(key) {\n",
              "      const quickchartButtonEl =\n",
              "        document.querySelector('#' + key + ' button');\n",
              "      quickchartButtonEl.disabled = true;  // To prevent multiple clicks.\n",
              "      quickchartButtonEl.classList.add('colab-df-spinner');\n",
              "      try {\n",
              "        const charts = await google.colab.kernel.invokeFunction(\n",
              "            'suggestCharts', [key], {});\n",
              "      } catch (error) {\n",
              "        console.error('Error during call to suggestCharts:', error);\n",
              "      }\n",
              "      quickchartButtonEl.classList.remove('colab-df-spinner');\n",
              "      quickchartButtonEl.classList.add('colab-df-quickchart-complete');\n",
              "    }\n",
              "    (() => {\n",
              "      let quickchartButtonEl =\n",
              "        document.querySelector('#df-1deab520-8e06-47be-873b-138dba8229c6 button');\n",
              "      quickchartButtonEl.style.display =\n",
              "        google.colab.kernel.accessAllowed ? 'block' : 'none';\n",
              "    })();\n",
              "  </script>\n",
              "</div>\n",
              "    </div>\n",
              "  </div>\n"
            ]
          },
          "metadata": {},
          "execution_count": 28
        }
      ],
      "source": [
        "import matplotlib.pyplot as plt\n",
        "\n",
        "# Create a DataFrame from the dictionary\n",
        "scores_df = pd.DataFrame(list(scores.items()), columns=['Model', 'Score'])\n",
        "scores_df"
      ]
    },
    {
      "cell_type": "code",
      "execution_count": 29,
      "metadata": {
        "colab": {
          "base_uri": "https://localhost:8080/",
          "height": 607
        },
        "id": "VxVxJouWY6AP",
        "outputId": "eb20f317-13a1-4da7-c2e2-0081946d42ed"
      },
      "outputs": [
        {
          "output_type": "display_data",
          "data": {
            "text/plain": [
              "<Figure size 1000x600 with 1 Axes>"
            ],
            "image/png": "[encoded data removed]"
          },
          "metadata": {}
        }
      ],
      "source": [
        "# Create a bar chart\n",
        "plt.figure(figsize=(10, 6))\n",
        "plt.bar(scores_df['Model'], scores_df['Score'], color='skyblue')\n",
        "plt.xlabel('Model')\n",
        "plt.ylabel('Score')\n",
        "plt.title('Model Performance Scores')\n",
        "plt.xticks(rotation=45)\n",
        "plt.tight_layout()\n",
        "\n",
        "# Show the bar chart\n",
        "plt.show()\n"
      ]
    },
    {
      "cell_type": "markdown",
      "source": [
        "## Developing a deep learning model"
      ],
      "metadata": {
        "id": "hrBpi_EmsxJs"
      }
    },
    {
      "cell_type": "code",
      "source": [
        "from keras.preprocessing.text import Tokenizer\n",
        "from keras.preprocessing.sequence import pad_sequences"
      ],
      "metadata": {
        "id": "sGFdDHB2s4B6"
      },
      "execution_count": 30,
      "outputs": []
    },
    {
      "cell_type": "code",
      "source": [
        "# instantiate the tokenizer\n",
        "tokenizer = Tokenizer()\n",
        "tokenizer.fit_on_texts(X)"
      ],
      "metadata": {
        "id": "36-UTkK-tCbN"
      },
      "execution_count": 31,
      "outputs": []
    },
    {
      "cell_type": "code",
      "source": [
        "# What is the vocabulary size?\n",
        "print(f'Vocabulary size = {len(tokenizer.word_index) + 1}')"
      ],
      "metadata": {
        "colab": {
          "base_uri": "https://localhost:8080/"
        },
        "id": "wX4XNxIJtmnC",
        "outputId": "ad380a1c-b111-4c7b-d855-cf8025a21b7e"
      },
      "execution_count": 32,
      "outputs": [
        {
          "output_type": "stream",
          "name": "stdout",
          "text": [
            "Vocabulary size = 19168\n"
          ]
        }
      ]
    },
    {
      "cell_type": "code",
      "source": [
        "# convert the dependent variable into integer sequences\n",
        "X_final = tokenizer.texts_to_sequences(X)\n",
        "X_final[:5]"
      ],
      "metadata": {
        "colab": {
          "base_uri": "https://localhost:8080/"
        },
        "id": "bWc6WRsQtU_D",
        "outputId": "e6cd4fd4-8959-4e6c-a0b1-5f4627ec9fbf"
      },
      "execution_count": 33,
      "outputs": [
        {
          "output_type": "execute_result",
          "data": {
            "text/plain": [
              "[[3, 2, 83, 25, 61, 8161, 1550, 41, 1511],\n",
              " [43, 2, 20, 191, 68, 6760, 3428, 4663, 1890, 293, 10862, 627],\n",
              " [43, 2, 2186, 83, 25, 14, 29, 797, 814],\n",
              " [3,\n",
              "  2,\n",
              "  798,\n",
              "  8162,\n",
              "  2472,\n",
              "  671,\n",
              "  8163,\n",
              "  278,\n",
              "  2472,\n",
              "  2878,\n",
              "  10863,\n",
              "  1026,\n",
              "  10864,\n",
              "  2473,\n",
              "  10865,\n",
              "  5837,\n",
              "  1026,\n",
              "  10866,\n",
              "  5140,\n",
              "  8164,\n",
              "  10867,\n",
              "  798,\n",
              "  10868,\n",
              "  278,\n",
              "  997,\n",
              "  5837,\n",
              "  713,\n",
              "  10869,\n",
              "  1047,\n",
              "  798,\n",
              "  507,\n",
              "  10870,\n",
              "  10871],\n",
              " [435, 2, 522, 79, 103, 1891, 3222]]"
            ]
          },
          "metadata": {},
          "execution_count": 33
        }
      ]
    },
    {
      "cell_type": "code",
      "source": [
        "# What is the maximum sequence length?\n",
        "# This number is important before padding the sequences so that they are of the\n",
        "# the same length\n",
        "max_seq_length = max([len(seq) for seq in X_final])\n",
        "max_seq_length"
      ],
      "metadata": {
        "colab": {
          "base_uri": "https://localhost:8080/"
        },
        "id": "VyXK1ELyti7D",
        "outputId": "472e7568-321e-4362-e90e-6fcbbf323be9"
      },
      "execution_count": 34,
      "outputs": [
        {
          "output_type": "execute_result",
          "data": {
            "text/plain": [
              "45"
            ]
          },
          "metadata": {},
          "execution_count": 34
        }
      ]
    },
    {
      "cell_type": "code",
      "source": [
        "# Pad sequences so that they are of the same length\n",
        "X_final_padded = pad_sequences(X_final, maxlen=max_seq_length, padding=\"post\")\n",
        "X_final_padded[:5]"
      ],
      "metadata": {
        "colab": {
          "base_uri": "https://localhost:8080/"
        },
        "id": "lGMDierHuc8V",
        "outputId": "615dca67-8ee0-417b-9894-95f31d63dc64"
      },
      "execution_count": 35,
      "outputs": [
        {
          "output_type": "execute_result",
          "data": {
            "text/plain": [
              "array([[    3,     2,    83,    25,    61,  8161,  1550,    41,  1511,\n",
              "            0,     0,     0,     0,     0,     0,     0,     0,     0,\n",
              "            0,     0,     0,     0,     0,     0,     0,     0,     0,\n",
              "            0,     0,     0,     0,     0,     0,     0,     0,     0,\n",
              "            0,     0,     0,     0,     0,     0,     0,     0,     0],\n",
              "       [   43,     2,    20,   191,    68,  6760,  3428,  4663,  1890,\n",
              "          293, 10862,   627,     0,     0,     0,     0,     0,     0,\n",
              "            0,     0,     0,     0,     0,     0,     0,     0,     0,\n",
              "            0,     0,     0,     0,     0,     0,     0,     0,     0,\n",
              "            0,     0,     0,     0,     0,     0,     0,     0,     0],\n",
              "       [   43,     2,  2186,    83,    25,    14,    29,   797,   814,\n",
              "            0,     0,     0,     0,     0,     0,     0,     0,     0,\n",
              "            0,     0,     0,     0,     0,     0,     0,     0,     0,\n",
              "            0,     0,     0,     0,     0,     0,     0,     0,     0,\n",
              "            0,     0,     0,     0,     0,     0,     0,     0,     0],\n",
              "       [    3,     2,   798,  8162,  2472,   671,  8163,   278,  2472,\n",
              "         2878, 10863,  1026, 10864,  2473, 10865,  5837,  1026, 10866,\n",
              "         5140,  8164, 10867,   798, 10868,   278,   997,  5837,   713,\n",
              "        10869,  1047,   798,   507, 10870, 10871,     0,     0,     0,\n",
              "            0,     0,     0,     0,     0,     0,     0,     0,     0],\n",
              "       [  435,     2,   522,    79,   103,  1891,  3222,     0,     0,\n",
              "            0,     0,     0,     0,     0,     0,     0,     0,     0,\n",
              "            0,     0,     0,     0,     0,     0,     0,     0,     0,\n",
              "            0,     0,     0,     0,     0,     0,     0,     0,     0,\n",
              "            0,     0,     0,     0,     0,     0,     0,     0,     0]],\n",
              "      dtype=int32)"
            ]
          },
          "metadata": {},
          "execution_count": 35
        }
      ]
    },
    {
      "cell_type": "code",
      "source": [
        "# label encode the target variable y\n",
        "from sklearn.preprocessing import LabelEncoder\n",
        "\n",
        "label_encoder = LabelEncoder()\n",
        "y_encoded = label_encoder.fit_transform(y)\n",
        "y_encoded[:5]"
      ],
      "metadata": {
        "colab": {
          "base_uri": "https://localhost:8080/"
        },
        "id": "SJlFcdFevVJi",
        "outputId": "67beae0c-a1d5-4d8a-e684-cba4987a529e"
      },
      "execution_count": 36,
      "outputs": [
        {
          "output_type": "execute_result",
          "data": {
            "text/plain": [
              "array([1, 1, 1, 1, 1])"
            ]
          },
          "metadata": {},
          "execution_count": 36
        }
      ]
    },
    {
      "cell_type": "code",
      "source": [
        "# what were the infered labels?\n",
        "label_encoder.classes_"
      ],
      "metadata": {
        "colab": {
          "base_uri": "https://localhost:8080/"
        },
        "id": "oNRTqd9XvoKJ",
        "outputId": "14f57d4f-2cb3-4b34-e50e-24ef4899fd0e"
      },
      "execution_count": 37,
      "outputs": [
        {
          "output_type": "execute_result",
          "data": {
            "text/plain": [
              "array(['credible', 'incredible'], dtype=object)"
            ]
          },
          "metadata": {},
          "execution_count": 37
        }
      ]
    },
    {
      "cell_type": "code",
      "source": [
        "# Split the data into training and validation sets\n",
        "from sklearn.model_selection import train_test_split\n",
        "X_train, X_test, y_train, y_test = train_test_split(X_final_padded,\n",
        "                                                   y_encoded,\n",
        "                                                   test_size = 0.2,\n",
        "                                                   random_state = 42)"
      ],
      "metadata": {
        "id": "SOQfK3G_vwSz"
      },
      "execution_count": 38,
      "outputs": []
    },
    {
      "cell_type": "code",
      "source": [
        "# define the model\n",
        "from keras.layers import Input, Embedding, SpatialDropout1D, LSTM, Bidirectional, Dropout, Dense, Conv1D\n",
        "from keras.models import Model\n",
        "\n",
        "vocab_size = len(tokenizer.word_index) + 1\n",
        "\n",
        "def create_model(vocab_size, max_seq_length):\n",
        "  input_layer = Input(shape=(max_seq_length,))\n",
        "  embedding = Embedding(vocab_size, 100, input_length=max_seq_length)(input_layer)\n",
        "  dropout_1 = SpatialDropout1D(0.2)(embedding)\n",
        "  conv1 = Conv1D(64, 5, activation='relu')(dropout_1)\n",
        "  bidirectional = Bidirectional(LSTM(64, dropout=0.2, recurrent_dropout=0.2))(conv1)\n",
        "  dense_1 = Dense(512, activation='relu')(bidirectional)\n",
        "  dropout_2 = Dropout(0.5)(dense_1)\n",
        "  dense_2 = Dense(512, activation='relu')(dropout_2)\n",
        "  outputs = Dense(1, activation='sigmoid')(dense_2)\n",
        "  model = Model(input_layer, outputs)\n",
        "\n",
        "  model.compile(loss='binary_crossentropy', optimizer='adam', metrics=['accuracy'])\n",
        "  model.summary()\n",
        "\n",
        "  return model\n"
      ],
      "metadata": {
        "id": "ZQs-3nr0wCm9"
      },
      "execution_count": 39,
      "outputs": []
    },
    {
      "cell_type": "code",
      "source": [
        "model = create_model(vocab_size, max_seq_length)"
      ],
      "metadata": {
        "colab": {
          "base_uri": "https://localhost:8080/"
        },
        "id": "lVnZ9Npky32S",
        "outputId": "2058bce6-ea92-4a24-abf1-bce76e502075"
      },
      "execution_count": 40,
      "outputs": [
        {
          "output_type": "stream",
          "name": "stdout",
          "text": [
            "Model: \"model\"\n",
            "_________________________________________________________________\n",
            " Layer (type)                Output Shape              Param #   \n",
            "=================================================================\n",
            " input_1 (InputLayer)        [(None, 45)]              0         \n",
            "                                                                 \n",
            " embedding (Embedding)       (None, 45, 100)           1916800   \n",
            "                                                                 \n",
            " spatial_dropout1d (Spatial  (None, 45, 100)           0         \n",
            " Dropout1D)                                                      \n",
            "                                                                 \n",
            " conv1d (Conv1D)             (None, 41, 64)            32064     \n",
            "                                                                 \n",
            " bidirectional (Bidirection  (None, 128)               66048     \n",
            " al)                                                             \n",
            "                                                                 \n",
            " dense (Dense)               (None, 512)               66048     \n",
            "                                                                 \n",
            " dropout (Dropout)           (None, 512)               0         \n",
            "                                                                 \n",
            " dense_1 (Dense)             (None, 512)               262656    \n",
            "                                                                 \n",
            " dense_2 (Dense)             (None, 1)                 513       \n",
            "                                                                 \n",
            "=================================================================\n",
            "Total params: 2344129 (8.94 MB)\n",
            "Trainable params: 2344129 (8.94 MB)\n",
            "Non-trainable params: 0 (0.00 Byte)\n",
            "_________________________________________________________________\n"
          ]
        }
      ]
    },
    {
      "cell_type": "code",
      "source": [
        "history = model.fit(X_train,\n",
        "                    y_train,\n",
        "                    epochs = 100,\n",
        "                    batch_size = 128,\n",
        "                    validation_data = (X_test, y_test))"
      ],
      "metadata": {
        "colab": {
          "base_uri": "https://localhost:8080/"
        },
        "id": "8rEl8OSrzPsd",
        "outputId": "0315a25e-323c-491f-8c55-9bbc6c67a7d1"
      },
      "execution_count": 42,
      "outputs": [
        {
          "output_type": "stream",
          "name": "stdout",
          "text": [
            "Epoch 1/100\n",
            "146/146 [==============================] - 47s 275ms/step - loss: 0.5823 - accuracy: 0.6665 - val_loss: 0.5289 - val_accuracy: 0.7165\n",
            "Epoch 2/100\n",
            "146/146 [==============================] - 38s 259ms/step - loss: 0.4574 - accuracy: 0.7812 - val_loss: 0.5510 - val_accuracy: 0.7141\n",
            "Epoch 3/100\n",
            "146/146 [==============================] - 37s 251ms/step - loss: 0.3337 - accuracy: 0.8524 - val_loss: 0.6696 - val_accuracy: 0.6993\n",
            "Epoch 4/100\n",
            "146/146 [==============================] - 39s 271ms/step - loss: 0.2109 - accuracy: 0.9122 - val_loss: 0.9172 - val_accuracy: 0.6755\n",
            "Epoch 5/100\n",
            "146/146 [==============================] - 40s 271ms/step - loss: 0.1232 - accuracy: 0.9509 - val_loss: 1.3718 - val_accuracy: 0.6682\n",
            "Epoch 6/100\n",
            "146/146 [==============================] - 38s 260ms/step - loss: 0.0795 - accuracy: 0.9699 - val_loss: 1.5803 - val_accuracy: 0.6655\n",
            "Epoch 7/100\n",
            "146/146 [==============================] - 39s 264ms/step - loss: 0.0524 - accuracy: 0.9807 - val_loss: 1.9335 - val_accuracy: 0.6717\n",
            "Epoch 8/100\n",
            "146/146 [==============================] - 39s 268ms/step - loss: 0.0486 - accuracy: 0.9819 - val_loss: 2.4114 - val_accuracy: 0.6680\n",
            "Epoch 9/100\n",
            "146/146 [==============================] - 38s 261ms/step - loss: 0.0377 - accuracy: 0.9857 - val_loss: 2.1101 - val_accuracy: 0.6710\n",
            "Epoch 10/100\n",
            "146/146 [==============================] - 39s 269ms/step - loss: 0.0296 - accuracy: 0.9894 - val_loss: 2.5251 - val_accuracy: 0.6670\n",
            "Epoch 11/100\n",
            "146/146 [==============================] - 38s 263ms/step - loss: 0.0225 - accuracy: 0.9922 - val_loss: 2.9760 - val_accuracy: 0.6605\n",
            "Epoch 12/100\n",
            "146/146 [==============================] - 38s 259ms/step - loss: 0.0228 - accuracy: 0.9926 - val_loss: 2.6955 - val_accuracy: 0.6642\n",
            "Epoch 13/100\n",
            "146/146 [==============================] - 39s 264ms/step - loss: 0.0192 - accuracy: 0.9935 - val_loss: 3.0540 - val_accuracy: 0.6624\n",
            "Epoch 14/100\n",
            "146/146 [==============================] - 40s 274ms/step - loss: 0.0184 - accuracy: 0.9936 - val_loss: 2.7877 - val_accuracy: 0.6650\n",
            "Epoch 15/100\n",
            "146/146 [==============================] - 40s 271ms/step - loss: 0.0209 - accuracy: 0.9928 - val_loss: 2.5936 - val_accuracy: 0.6650\n",
            "Epoch 16/100\n",
            "146/146 [==============================] - 41s 282ms/step - loss: 0.0172 - accuracy: 0.9941 - val_loss: 2.8488 - val_accuracy: 0.6717\n",
            "Epoch 17/100\n",
            "146/146 [==============================] - 39s 265ms/step - loss: 0.0141 - accuracy: 0.9952 - val_loss: 2.8667 - val_accuracy: 0.6618\n",
            "Epoch 18/100\n",
            "146/146 [==============================] - 39s 265ms/step - loss: 0.0115 - accuracy: 0.9965 - val_loss: 3.4004 - val_accuracy: 0.6659\n",
            "Epoch 19/100\n",
            "146/146 [==============================] - 38s 264ms/step - loss: 0.0135 - accuracy: 0.9951 - val_loss: 3.0109 - val_accuracy: 0.6663\n",
            "Epoch 20/100\n",
            "146/146 [==============================] - 37s 252ms/step - loss: 0.0151 - accuracy: 0.9948 - val_loss: 2.3913 - val_accuracy: 0.6706\n",
            "Epoch 21/100\n",
            "146/146 [==============================] - 39s 264ms/step - loss: 0.0099 - accuracy: 0.9966 - val_loss: 3.2266 - val_accuracy: 0.6676\n",
            "Epoch 22/100\n",
            "146/146 [==============================] - 38s 260ms/step - loss: 0.0096 - accuracy: 0.9966 - val_loss: 3.5999 - val_accuracy: 0.6721\n",
            "Epoch 23/100\n",
            "146/146 [==============================] - 39s 264ms/step - loss: 0.0140 - accuracy: 0.9953 - val_loss: 2.7509 - val_accuracy: 0.6693\n",
            "Epoch 24/100\n",
            "146/146 [==============================] - 40s 273ms/step - loss: 0.0099 - accuracy: 0.9968 - val_loss: 3.3117 - val_accuracy: 0.6768\n",
            "Epoch 25/100\n",
            "146/146 [==============================] - 40s 274ms/step - loss: 0.0114 - accuracy: 0.9958 - val_loss: 3.1611 - val_accuracy: 0.6691\n",
            "Epoch 26/100\n",
            "146/146 [==============================] - 38s 260ms/step - loss: 0.0114 - accuracy: 0.9964 - val_loss: 3.5707 - val_accuracy: 0.6674\n",
            "Epoch 27/100\n",
            "146/146 [==============================] - 38s 256ms/step - loss: 0.0078 - accuracy: 0.9974 - val_loss: 3.0583 - val_accuracy: 0.6652\n",
            "Epoch 28/100\n",
            "146/146 [==============================] - 39s 265ms/step - loss: 0.0095 - accuracy: 0.9964 - val_loss: 3.0304 - val_accuracy: 0.6637\n",
            "Epoch 29/100\n",
            "146/146 [==============================] - 38s 260ms/step - loss: 0.0090 - accuracy: 0.9971 - val_loss: 2.8041 - val_accuracy: 0.6708\n",
            "Epoch 30/100\n",
            "146/146 [==============================] - 39s 265ms/step - loss: 0.0084 - accuracy: 0.9969 - val_loss: 3.5728 - val_accuracy: 0.6715\n",
            "Epoch 31/100\n",
            "146/146 [==============================] - 39s 270ms/step - loss: 0.0093 - accuracy: 0.9964 - val_loss: 3.6724 - val_accuracy: 0.6708\n",
            "Epoch 32/100\n",
            "146/146 [==============================] - 40s 271ms/step - loss: 0.0091 - accuracy: 0.9972 - val_loss: 3.7202 - val_accuracy: 0.6582\n",
            "Epoch 33/100\n",
            "146/146 [==============================] - 37s 251ms/step - loss: 0.0086 - accuracy: 0.9971 - val_loss: 3.1822 - val_accuracy: 0.6676\n",
            "Epoch 34/100\n",
            "146/146 [==============================] - 40s 272ms/step - loss: 0.0080 - accuracy: 0.9970 - val_loss: 3.2441 - val_accuracy: 0.6627\n",
            "Epoch 35/100\n",
            "146/146 [==============================] - 40s 273ms/step - loss: 0.0069 - accuracy: 0.9974 - val_loss: 3.8316 - val_accuracy: 0.6772\n",
            "Epoch 36/100\n",
            "146/146 [==============================] - 38s 259ms/step - loss: 0.0076 - accuracy: 0.9975 - val_loss: 3.6494 - val_accuracy: 0.6663\n",
            "Epoch 37/100\n",
            "146/146 [==============================] - 39s 263ms/step - loss: 0.0049 - accuracy: 0.9985 - val_loss: 4.0285 - val_accuracy: 0.6597\n",
            "Epoch 38/100\n",
            "146/146 [==============================] - 38s 264ms/step - loss: 0.0062 - accuracy: 0.9980 - val_loss: 3.6417 - val_accuracy: 0.6652\n",
            "Epoch 39/100\n",
            "146/146 [==============================] - 38s 264ms/step - loss: 0.0065 - accuracy: 0.9979 - val_loss: 3.6367 - val_accuracy: 0.6710\n",
            "Epoch 40/100\n",
            "146/146 [==============================] - 37s 252ms/step - loss: 0.0061 - accuracy: 0.9977 - val_loss: 3.3696 - val_accuracy: 0.6693\n",
            "Epoch 41/100\n",
            "146/146 [==============================] - 40s 274ms/step - loss: 0.0049 - accuracy: 0.9983 - val_loss: 3.6104 - val_accuracy: 0.6627\n",
            "Epoch 42/100\n",
            "146/146 [==============================] - 39s 269ms/step - loss: 0.0074 - accuracy: 0.9974 - val_loss: 3.9319 - val_accuracy: 0.6624\n",
            "Epoch 43/100\n",
            "146/146 [==============================] - 38s 260ms/step - loss: 0.0065 - accuracy: 0.9978 - val_loss: 3.7061 - val_accuracy: 0.6670\n",
            "Epoch 44/100\n",
            "146/146 [==============================] - 39s 268ms/step - loss: 0.0071 - accuracy: 0.9974 - val_loss: 3.4626 - val_accuracy: 0.6612\n",
            "Epoch 45/100\n",
            "146/146 [==============================] - 39s 265ms/step - loss: 0.0060 - accuracy: 0.9979 - val_loss: 3.5451 - val_accuracy: 0.6633\n",
            "Epoch 46/100\n",
            "146/146 [==============================] - 38s 262ms/step - loss: 0.0067 - accuracy: 0.9977 - val_loss: 3.6027 - val_accuracy: 0.6650\n",
            "Epoch 47/100\n",
            "146/146 [==============================] - 39s 263ms/step - loss: 0.0053 - accuracy: 0.9982 - val_loss: 3.6203 - val_accuracy: 0.6640\n",
            "Epoch 48/100\n",
            "146/146 [==============================] - 38s 264ms/step - loss: 0.0057 - accuracy: 0.9980 - val_loss: 3.6939 - val_accuracy: 0.6631\n",
            "Epoch 49/100\n",
            "146/146 [==============================] - 38s 261ms/step - loss: 0.0063 - accuracy: 0.9977 - val_loss: 4.5375 - val_accuracy: 0.6700\n",
            "Epoch 50/100\n",
            "146/146 [==============================] - 37s 250ms/step - loss: 0.0043 - accuracy: 0.9982 - val_loss: 4.2267 - val_accuracy: 0.6663\n",
            "Epoch 51/100\n",
            "146/146 [==============================] - 38s 262ms/step - loss: 0.0049 - accuracy: 0.9984 - val_loss: 3.7776 - val_accuracy: 0.6670\n",
            "Epoch 52/100\n",
            "146/146 [==============================] - 38s 257ms/step - loss: 0.0047 - accuracy: 0.9986 - val_loss: 4.2642 - val_accuracy: 0.6635\n",
            "Epoch 53/100\n",
            "146/146 [==============================] - 40s 275ms/step - loss: 0.0039 - accuracy: 0.9989 - val_loss: 4.1944 - val_accuracy: 0.6682\n",
            "Epoch 54/100\n",
            "146/146 [==============================] - 39s 270ms/step - loss: 0.0048 - accuracy: 0.9987 - val_loss: 3.7465 - val_accuracy: 0.6659\n",
            "Epoch 55/100\n",
            "146/146 [==============================] - 38s 261ms/step - loss: 0.0047 - accuracy: 0.9987 - val_loss: 3.7102 - val_accuracy: 0.6577\n",
            "Epoch 56/100\n",
            "146/146 [==============================] - 38s 262ms/step - loss: 0.0042 - accuracy: 0.9986 - val_loss: 4.1991 - val_accuracy: 0.6655\n",
            "Epoch 57/100\n",
            "146/146 [==============================] - 38s 263ms/step - loss: 0.0056 - accuracy: 0.9983 - val_loss: 3.6545 - val_accuracy: 0.6657\n",
            "Epoch 58/100\n",
            "146/146 [==============================] - 38s 260ms/step - loss: 0.0068 - accuracy: 0.9977 - val_loss: 3.7342 - val_accuracy: 0.6676\n",
            "Epoch 59/100\n",
            "146/146 [==============================] - 38s 260ms/step - loss: 0.0074 - accuracy: 0.9979 - val_loss: 3.5238 - val_accuracy: 0.6622\n",
            "Epoch 60/100\n",
            "146/146 [==============================] - 56s 382ms/step - loss: 0.0039 - accuracy: 0.9986 - val_loss: 3.9041 - val_accuracy: 0.6667\n",
            "Epoch 61/100\n",
            "146/146 [==============================] - 49s 334ms/step - loss: 0.0039 - accuracy: 0.9987 - val_loss: 4.9006 - val_accuracy: 0.6564\n",
            "Epoch 62/100\n",
            "146/146 [==============================] - 54s 370ms/step - loss: 0.0036 - accuracy: 0.9986 - val_loss: 4.9012 - val_accuracy: 0.6642\n",
            "Epoch 63/100\n",
            "146/146 [==============================] - 50s 340ms/step - loss: 0.0049 - accuracy: 0.9982 - val_loss: 3.0779 - val_accuracy: 0.6655\n",
            "Epoch 64/100\n",
            "146/146 [==============================] - 56s 381ms/step - loss: 0.0053 - accuracy: 0.9984 - val_loss: 4.4087 - val_accuracy: 0.6592\n",
            "Epoch 65/100\n",
            "146/146 [==============================] - 68s 468ms/step - loss: 0.0016 - accuracy: 0.9995 - val_loss: 5.0803 - val_accuracy: 0.6582\n",
            "Epoch 66/100\n",
            "146/146 [==============================] - 53s 363ms/step - loss: 0.0037 - accuracy: 0.9989 - val_loss: 4.4176 - val_accuracy: 0.6646\n",
            "Epoch 67/100\n",
            "146/146 [==============================] - 49s 333ms/step - loss: 0.0028 - accuracy: 0.9991 - val_loss: 4.6171 - val_accuracy: 0.6719\n",
            "Epoch 68/100\n",
            "146/146 [==============================] - 54s 367ms/step - loss: 0.0040 - accuracy: 0.9985 - val_loss: 3.9154 - val_accuracy: 0.6695\n",
            "Epoch 69/100\n",
            "146/146 [==============================] - 46s 315ms/step - loss: 0.0029 - accuracy: 0.9988 - val_loss: 4.6750 - val_accuracy: 0.6706\n",
            "Epoch 70/100\n",
            "146/146 [==============================] - 40s 272ms/step - loss: 0.0042 - accuracy: 0.9988 - val_loss: 4.2643 - val_accuracy: 0.6678\n",
            "Epoch 71/100\n",
            "146/146 [==============================] - 40s 276ms/step - loss: 0.0026 - accuracy: 0.9991 - val_loss: 4.5486 - val_accuracy: 0.6659\n",
            "Epoch 72/100\n",
            "146/146 [==============================] - 39s 266ms/step - loss: 0.0043 - accuracy: 0.9990 - val_loss: 3.1923 - val_accuracy: 0.6637\n",
            "Epoch 73/100\n",
            "146/146 [==============================] - 38s 260ms/step - loss: 0.0037 - accuracy: 0.9989 - val_loss: 4.3339 - val_accuracy: 0.6659\n",
            "Epoch 74/100\n",
            "146/146 [==============================] - 40s 277ms/step - loss: 0.0030 - accuracy: 0.9989 - val_loss: 4.8140 - val_accuracy: 0.6631\n",
            "Epoch 75/100\n",
            "146/146 [==============================] - 40s 273ms/step - loss: 0.0031 - accuracy: 0.9990 - val_loss: 4.7862 - val_accuracy: 0.6605\n",
            "Epoch 76/100\n",
            "146/146 [==============================] - 38s 262ms/step - loss: 0.0026 - accuracy: 0.9991 - val_loss: 5.0444 - val_accuracy: 0.6672\n",
            "Epoch 77/100\n",
            "146/146 [==============================] - 38s 262ms/step - loss: 0.0044 - accuracy: 0.9986 - val_loss: 4.0927 - val_accuracy: 0.6663\n",
            "Epoch 78/100\n",
            "146/146 [==============================] - 40s 276ms/step - loss: 0.0026 - accuracy: 0.9991 - val_loss: 4.6335 - val_accuracy: 0.6644\n",
            "Epoch 79/100\n",
            "146/146 [==============================] - 39s 265ms/step - loss: 0.0038 - accuracy: 0.9989 - val_loss: 3.3759 - val_accuracy: 0.6678\n",
            "Epoch 80/100\n",
            "146/146 [==============================] - 37s 253ms/step - loss: 0.0049 - accuracy: 0.9986 - val_loss: 3.5940 - val_accuracy: 0.6672\n",
            "Epoch 81/100\n",
            "146/146 [==============================] - 41s 280ms/step - loss: 0.0028 - accuracy: 0.9992 - val_loss: 4.9144 - val_accuracy: 0.6708\n",
            "Epoch 82/100\n",
            "146/146 [==============================] - 40s 274ms/step - loss: 0.0034 - accuracy: 0.9990 - val_loss: 5.1359 - val_accuracy: 0.6637\n",
            "Epoch 83/100\n",
            "146/146 [==============================] - 38s 261ms/step - loss: 0.0030 - accuracy: 0.9992 - val_loss: 4.3990 - val_accuracy: 0.6629\n",
            "Epoch 84/100\n",
            "146/146 [==============================] - 39s 265ms/step - loss: 0.0022 - accuracy: 0.9995 - val_loss: 4.5063 - val_accuracy: 0.6672\n",
            "Epoch 85/100\n",
            "146/146 [==============================] - 42s 288ms/step - loss: 0.0047 - accuracy: 0.9986 - val_loss: 3.5369 - val_accuracy: 0.6586\n",
            "Epoch 86/100\n",
            "146/146 [==============================] - 39s 264ms/step - loss: 0.0028 - accuracy: 0.9991 - val_loss: 3.8868 - val_accuracy: 0.6680\n",
            "Epoch 87/100\n",
            "146/146 [==============================] - 38s 260ms/step - loss: 0.0042 - accuracy: 0.9988 - val_loss: 4.1213 - val_accuracy: 0.6622\n",
            "Epoch 88/100\n",
            "146/146 [==============================] - 41s 279ms/step - loss: 0.0024 - accuracy: 0.9990 - val_loss: 4.3665 - val_accuracy: 0.6545\n",
            "Epoch 89/100\n",
            "146/146 [==============================] - 39s 265ms/step - loss: 0.0022 - accuracy: 0.9992 - val_loss: 4.8871 - val_accuracy: 0.6627\n",
            "Epoch 90/100\n",
            "146/146 [==============================] - 38s 261ms/step - loss: 0.0039 - accuracy: 0.9988 - val_loss: 3.7544 - val_accuracy: 0.6661\n",
            "Epoch 91/100\n",
            "146/146 [==============================] - 38s 257ms/step - loss: 0.0038 - accuracy: 0.9990 - val_loss: 3.9416 - val_accuracy: 0.6592\n",
            "Epoch 92/100\n",
            "146/146 [==============================] - 42s 287ms/step - loss: 0.0022 - accuracy: 0.9993 - val_loss: 4.7885 - val_accuracy: 0.6655\n",
            "Epoch 93/100\n",
            "146/146 [==============================] - 39s 267ms/step - loss: 0.0028 - accuracy: 0.9990 - val_loss: 4.0280 - val_accuracy: 0.6659\n",
            "Epoch 94/100\n",
            "146/146 [==============================] - 37s 252ms/step - loss: 0.0022 - accuracy: 0.9992 - val_loss: 4.9174 - val_accuracy: 0.6633\n",
            "Epoch 95/100\n",
            "146/146 [==============================] - 41s 277ms/step - loss: 0.0036 - accuracy: 0.9992 - val_loss: 4.0832 - val_accuracy: 0.6603\n",
            "Epoch 96/100\n",
            "146/146 [==============================] - 39s 265ms/step - loss: 0.0015 - accuracy: 0.9995 - val_loss: 5.0022 - val_accuracy: 0.6590\n",
            "Epoch 97/100\n",
            "146/146 [==============================] - 38s 258ms/step - loss: 0.0022 - accuracy: 0.9992 - val_loss: 4.9733 - val_accuracy: 0.6569\n",
            "Epoch 98/100\n",
            "146/146 [==============================] - 39s 267ms/step - loss: 0.0015 - accuracy: 0.9995 - val_loss: 5.2092 - val_accuracy: 0.6637\n",
            "Epoch 99/100\n",
            "146/146 [==============================] - 41s 279ms/step - loss: 0.0021 - accuracy: 0.9992 - val_loss: 4.7069 - val_accuracy: 0.6575\n",
            "Epoch 100/100\n",
            "146/146 [==============================] - 39s 270ms/step - loss: 0.0028 - accuracy: 0.9991 - val_loss: 3.6674 - val_accuracy: 0.6627\n"
          ]
        }
      ]
    },
    {
      "cell_type": "markdown",
      "source": [
        "## Conclusion\n",
        "The deep learning model produced the best accuracy out of all the models that I tested. Therefore, I will use this model to build the web application for this project. It is concerning that all of the models could not achieve a higher accuracy which probably suggests the lack of suitability of these models to determine the credibility of social media posts, among other things."
      ],
      "metadata": {
        "id": "SvuY7_Tami_R"
      }
    },
    {
      "cell_type": "markdown",
      "source": [
        "### Saving the best model and related objects"
      ],
      "metadata": {
        "id": "8rg5dZUHnV_B"
      }
    },
    {
      "cell_type": "code",
      "source": [
        "from pickle import dump\n",
        "\n",
        "# save the prediction model\n",
        "model.save(f'{MODELS_PATH}/classifier.keras', save_format='keras')\n",
        "model.save(f'{MODELS_PATH}/classifier.h5', save_format='h5')\n",
        "\n",
        "# save the tokenizer\n",
        "dump(tokenizer, open(f'{MODELS_PATH}/tokenizer.pkl', 'wb'))\n",
        "\n",
        "# save the label encoder\n",
        "dump(label_encoder, open(f'{MODELS_PATH}/label_encoder.pkl', 'wb'))"
      ],
      "metadata": {
        "colab": {
          "base_uri": "https://localhost:8080/"
        },
        "id": "gOoeW1sgndnF",
        "outputId": "7d1e0754-24c9-49b3-d03c-7394257caf63"
      },
      "execution_count": 43,
      "outputs": [
        {
          "output_type": "stream",
          "name": "stderr",
          "text": [
            "/usr/local/lib/python3.10/dist-packages/keras/src/engine/training.py:3000: UserWarning: You are saving your model as an HDF5 file via `model.save()`. This file format is considered legacy. We recommend using instead the native Keras format, e.g. `model.save('my_model.keras')`.\n",
            "  saving_api.save_model(\n"
          ]
        }
      ]
    },
    {
      "cell_type": "markdown",
      "source": [
        "## Making new predictions using the deep learning model"
      ],
      "metadata": {
        "id": "EoylmO59nOAj"
      }
    },
    {
      "cell_type": "code",
      "source": [
        "# required libraries\n",
        "import re\n",
        "import string\n",
        "import nltk\n",
        "from nltk.corpus import stopwords\n",
        "from nltk.stem import WordNetLemmatizer\n",
        "from keras.preprocessing.sequence import pad_sequences\n",
        "\n",
        "# download NLTK stopwords\n",
        "nltk.download('stopwords')\n",
        "nltk.download('wordnet')"
      ],
      "metadata": {
        "colab": {
          "base_uri": "https://localhost:8080/"
        },
        "id": "A7w3_ISSud7L",
        "outputId": "472cafe1-f019-4a12-e77e-9e7fcb0d7d13"
      },
      "execution_count": 48,
      "outputs": [
        {
          "output_type": "stream",
          "name": "stderr",
          "text": [
            "[nltk_data] Downloading package stopwords to /root/nltk_data...\n",
            "[nltk_data]   Package stopwords is already up-to-date!\n",
            "[nltk_data] Downloading package wordnet to /root/nltk_data...\n",
            "[nltk_data]   Package wordnet is already up-to-date!\n"
          ]
        },
        {
          "output_type": "execute_result",
          "data": {
            "text/plain": [
              "True"
            ]
          },
          "metadata": {},
          "execution_count": 48
        }
      ]
    },
    {
      "cell_type": "code",
      "source": [
        "# define a function to clean the text\n",
        "def clean_doc(doc):\n",
        "    # Remove HTML tags using regex\n",
        "    doc = re.sub(r'<[^>]+>', '', doc)\n",
        "\n",
        "    # Convert text to lowercase\n",
        "    doc = doc.lower()\n",
        "\n",
        "    # Split into tokens by white space\n",
        "    tokens = doc.split()\n",
        "\n",
        "    # Prepare regex for char filtering\n",
        "    re_punc = re.compile('[%s]' % re.escape(string.punctuation))\n",
        "\n",
        "    # Remove punctuation from each word\n",
        "    tokens = [re_punc.sub('', w) for w in tokens]\n",
        "\n",
        "    # Remove non-alphabetic tokens\n",
        "    tokens = [word for word in tokens if word.isalpha()]\n",
        "\n",
        "    # Initialize the WordNet Lemmatizer\n",
        "    lemmatizer = WordNetLemmatizer()\n",
        "\n",
        "    # Perform lemmatization on each word\n",
        "    tokens = [lemmatizer.lemmatize(word) for word in tokens]\n",
        "\n",
        "    # Filter out stop words\n",
        "    stop_words = set(stopwords.words('english'))\n",
        "    tokens = [w for w in tokens if not w in stop_words]\n",
        "\n",
        "    # Filter out short tokens\n",
        "    tokens = [word for word in tokens if len(word) > 1]\n",
        "\n",
        "    # Join the tokens back into a single string\n",
        "    cleaned_text = ' '.join(tokens)\n",
        "\n",
        "    return cleaned_text"
      ],
      "metadata": {
        "id": "wGv3bBDZuC-J"
      },
      "execution_count": 46,
      "outputs": []
    },
    {
      "cell_type": "code",
      "source": [
        "# create a function to make the prediction\n",
        "def get_prediction(source, content, classifier, tokenizer, label_encoder):\n",
        "  post = f'{source} {content}'\n",
        "\n",
        "  post = clean_doc(post)\n",
        "\n",
        "  post = [post]\n",
        "\n",
        "  post = tokenizer.texts_to_sequences(post)\n",
        "\n",
        "  max_seq_length = 45\n",
        "  post = pad_sequences(post, maxlen=max_seq_length, padding=\"post\")\n",
        "\n",
        "  result = dict()\n",
        "\n",
        "  result[\"probability\"] = model.predict(post)[0][0]\n",
        "\n",
        "  if result[\"probability\"] >= 0.5:\n",
        "      result[\"classification\"] = label_encoder.inverse_transform([1])[0]\n",
        "  else:\n",
        "      result[\"classification\"] = label_encoder.inverse_transform([0])[0]\n",
        "\n",
        "  return result"
      ],
      "metadata": {
        "id": "sS_jS2FznUVO"
      },
      "execution_count": 57,
      "outputs": []
    },
    {
      "cell_type": "code",
      "source": [
        "result = get_prediction(\"Gavin Newsom\",\n",
        "                      \"'We are more energy independent today' under President Joe Biden\",\n",
        "                      model,\n",
        "                      tokenizer,\n",
        "                      label_encoder)\n",
        "result"
      ],
      "metadata": {
        "colab": {
          "base_uri": "https://localhost:8080/"
        },
        "id": "jqcMRGaSvSbx",
        "outputId": "636ca652-0c4d-4544-a819-668028448712"
      },
      "execution_count": 58,
      "outputs": [
        {
          "output_type": "stream",
          "name": "stdout",
          "text": [
            "1/1 [==============================] - 0s 31ms/step\n"
          ]
        },
        {
          "output_type": "execute_result",
          "data": {
            "text/plain": [
              "{'probability': 2.2666897e-09, 'classification': 'credible'}"
            ]
          },
          "metadata": {},
          "execution_count": 58
        }
      ]
    }
  ],
  "metadata": {
    "colab": {
      "provenance": [],
      "toc_visible": true
    },
    "kernelspec": {
      "display_name": "Python 3",
      "name": "python3"
    },
    "language_info": {
      "name": "python"
    }
  },
  "nbformat": 4,
  "nbformat_minor": 0
}